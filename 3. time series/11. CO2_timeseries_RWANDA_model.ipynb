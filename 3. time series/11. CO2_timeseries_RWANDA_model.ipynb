{
  "nbformat": 4,
  "nbformat_minor": 0,
  "metadata": {
    "colab": {
      "provenance": []
    },
    "kernelspec": {
      "name": "python3",
      "display_name": "Python 3"
    },
    "language_info": {
      "name": "python"
    }
  },
  "cells": [
    {
      "cell_type": "markdown",
      "source": [
        "# **Using google colab so importing libraries to use kaggle api token**"
      ],
      "metadata": {
        "id": "5kXbBRiRWvb_"
      }
    },
    {
      "cell_type": "markdown",
      "source": [
        "Dataset link\n",
        "https://www.kaggle.com/competitions/playground-series-s3e20/data\n"
      ],
      "metadata": {
        "id": "z0rTw4C4B9r4"
      }
    },
    {
      "cell_type": "code",
      "source": [],
      "metadata": {
        "id": "PqjzZlvdB9R-"
      },
      "execution_count": null,
      "outputs": []
    },
    {
      "cell_type": "code",
      "execution_count": null,
      "metadata": {
        "id": "cLTxoD8_L-Bt",
        "colab": {
          "base_uri": "https://localhost:8080/"
        },
        "outputId": "e4290aed-ac2e-4a03-e5e5-92a34a558f11"
      },
      "outputs": [
        {
          "output_type": "stream",
          "name": "stdout",
          "text": [
            "Collecting opendatasets\n",
            "  Downloading opendatasets-0.1.22-py3-none-any.whl (15 kB)\n",
            "Requirement already satisfied: tqdm in /usr/local/lib/python3.10/dist-packages (from opendatasets) (4.66.1)\n",
            "Requirement already satisfied: kaggle in /usr/local/lib/python3.10/dist-packages (from opendatasets) (1.5.16)\n",
            "Requirement already satisfied: click in /usr/local/lib/python3.10/dist-packages (from opendatasets) (8.1.7)\n",
            "Requirement already satisfied: six>=1.10 in /usr/local/lib/python3.10/dist-packages (from kaggle->opendatasets) (1.16.0)\n",
            "Requirement already satisfied: certifi in /usr/local/lib/python3.10/dist-packages (from kaggle->opendatasets) (2023.7.22)\n",
            "Requirement already satisfied: python-dateutil in /usr/local/lib/python3.10/dist-packages (from kaggle->opendatasets) (2.8.2)\n",
            "Requirement already satisfied: requests in /usr/local/lib/python3.10/dist-packages (from kaggle->opendatasets) (2.31.0)\n",
            "Requirement already satisfied: python-slugify in /usr/local/lib/python3.10/dist-packages (from kaggle->opendatasets) (8.0.1)\n",
            "Requirement already satisfied: urllib3 in /usr/local/lib/python3.10/dist-packages (from kaggle->opendatasets) (2.0.4)\n",
            "Requirement already satisfied: bleach in /usr/local/lib/python3.10/dist-packages (from kaggle->opendatasets) (6.0.0)\n",
            "Requirement already satisfied: webencodings in /usr/local/lib/python3.10/dist-packages (from bleach->kaggle->opendatasets) (0.5.1)\n",
            "Requirement already satisfied: text-unidecode>=1.3 in /usr/local/lib/python3.10/dist-packages (from python-slugify->kaggle->opendatasets) (1.3)\n",
            "Requirement already satisfied: charset-normalizer<4,>=2 in /usr/local/lib/python3.10/dist-packages (from requests->kaggle->opendatasets) (3.2.0)\n",
            "Requirement already satisfied: idna<4,>=2.5 in /usr/local/lib/python3.10/dist-packages (from requests->kaggle->opendatasets) (3.4)\n",
            "Installing collected packages: opendatasets\n",
            "Successfully installed opendatasets-0.1.22\n"
          ]
        }
      ],
      "source": [
        "!pip install opendatasets"
      ]
    },
    {
      "cell_type": "code",
      "source": [
        "import opendatasets as od\n",
        "import pandas as pd\n",
        "\n",
        "od.download(\n",
        "  \"https://www.kaggle.com/competitions/playground-series-s3e20/code\")"
      ],
      "metadata": {
        "id": "pD_TKkUuMM6Q",
        "colab": {
          "base_uri": "https://localhost:8080/"
        },
        "outputId": "02434d89-a2de-4492-c680-ee7631ddb1bb"
      },
      "execution_count": null,
      "outputs": [
        {
          "output_type": "stream",
          "name": "stdout",
          "text": [
            "Please provide your Kaggle credentials to download this dataset. Learn more: http://bit.ly/kaggle-creds\n",
            "Your Kaggle username: bijinsanny\n",
            "Your Kaggle Key: ··········\n",
            "Downloading playground-series-s3e20.zip to ./playground-series-s3e20\n"
          ]
        },
        {
          "output_type": "stream",
          "name": "stderr",
          "text": [
            "100%|██████████| 48.9M/48.9M [00:00<00:00, 64.7MB/s]\n"
          ]
        },
        {
          "output_type": "stream",
          "name": "stdout",
          "text": [
            "\n",
            "Extracting archive ./playground-series-s3e20/playground-series-s3e20.zip to ./playground-series-s3e20\n"
          ]
        }
      ]
    },
    {
      "cell_type": "code",
      "source": [
        "df=pd.read_csv(\"/content/playground-series-s3e20/train.csv\")\n",
        "test_df=pd.read_csv(\"/content/playground-series-s3e20/test.csv\")"
      ],
      "metadata": {
        "id": "kB4GY5h_MRCN"
      },
      "execution_count": null,
      "outputs": []
    },
    {
      "cell_type": "code",
      "source": [
        "df.head()"
      ],
      "metadata": {
        "colab": {
          "base_uri": "https://localhost:8080/",
          "height": 255
        },
        "id": "6-ZSAuu_QBdA",
        "outputId": "0aa440f6-186a-4013-cf5c-a7b84e7f1ce0"
      },
      "execution_count": null,
      "outputs": [
        {
          "output_type": "execute_result",
          "data": {
            "text/plain": [
              "       ID_LAT_LON_YEAR_WEEK  latitude  longitude  year  week_no  \\\n",
              "0  ID_-0.510_29.290_2019_00     -0.51      29.29  2019        0   \n",
              "1  ID_-0.510_29.290_2019_01     -0.51      29.29  2019        1   \n",
              "2  ID_-0.510_29.290_2019_02     -0.51      29.29  2019        2   \n",
              "3  ID_-0.510_29.290_2019_03     -0.51      29.29  2019        3   \n",
              "4  ID_-0.510_29.290_2019_04     -0.51      29.29  2019        4   \n",
              "\n",
              "   SulphurDioxide_SO2_column_number_density  \\\n",
              "0                                 -0.000108   \n",
              "1                                  0.000021   \n",
              "2                                  0.000514   \n",
              "3                                       NaN   \n",
              "4                                 -0.000079   \n",
              "\n",
              "   SulphurDioxide_SO2_column_number_density_amf  \\\n",
              "0                                      0.603019   \n",
              "1                                      0.728214   \n",
              "2                                      0.748199   \n",
              "3                                           NaN   \n",
              "4                                      0.676296   \n",
              "\n",
              "   SulphurDioxide_SO2_slant_column_number_density  \\\n",
              "0                                       -0.000065   \n",
              "1                                        0.000014   \n",
              "2                                        0.000385   \n",
              "3                                             NaN   \n",
              "4                                       -0.000048   \n",
              "\n",
              "   SulphurDioxide_cloud_fraction  SulphurDioxide_sensor_azimuth_angle  ...  \\\n",
              "0                       0.255668                           -98.593887  ...   \n",
              "1                       0.130988                            16.592861  ...   \n",
              "2                       0.110018                            72.795837  ...   \n",
              "3                            NaN                                  NaN  ...   \n",
              "4                       0.121164                             4.121269  ...   \n",
              "\n",
              "   Cloud_cloud_top_height  Cloud_cloud_base_pressure  Cloud_cloud_base_height  \\\n",
              "0             3664.436218               61085.809570              2615.120483   \n",
              "1             3651.190311               66969.478735              3174.572424   \n",
              "2             4216.986492               60068.894448              3516.282669   \n",
              "3             5228.507736               51064.547339              4180.973322   \n",
              "4             3980.598120               63751.125781              3355.710107   \n",
              "\n",
              "   Cloud_cloud_optical_depth  Cloud_surface_albedo  \\\n",
              "0                  15.568533              0.272292   \n",
              "1                   8.690601              0.256830   \n",
              "2                  21.103410              0.251101   \n",
              "3                  15.386899              0.262043   \n",
              "4                   8.114694              0.235847   \n",
              "\n",
              "   Cloud_sensor_azimuth_angle  Cloud_sensor_zenith_angle  \\\n",
              "0                  -12.628986                  35.632416   \n",
              "1                   30.359375                  39.557633   \n",
              "2                   15.377883                  30.401823   \n",
              "3                  -11.293399                  24.380357   \n",
              "4                   38.532263                  37.392979   \n",
              "\n",
              "   Cloud_solar_azimuth_angle  Cloud_solar_zenith_angle  emission  \n",
              "0                -138.786423                 30.752140  3.750994  \n",
              "1                -145.183930                 27.251779  4.025176  \n",
              "2                -142.519545                 26.193296  4.231381  \n",
              "3                -132.665828                 28.829155  4.305286  \n",
              "4                -141.509805                 22.204612  4.347317  \n",
              "\n",
              "[5 rows x 76 columns]"
            ],
            "text/html": [
              "\n",
              "  <div id=\"df-86adbddb-7462-44f7-a4e4-d9194951bd5c\" class=\"colab-df-container\">\n",
              "    <div>\n",
              "<style scoped>\n",
              "    .dataframe tbody tr th:only-of-type {\n",
              "        vertical-align: middle;\n",
              "    }\n",
              "\n",
              "    .dataframe tbody tr th {\n",
              "        vertical-align: top;\n",
              "    }\n",
              "\n",
              "    .dataframe thead th {\n",
              "        text-align: right;\n",
              "    }\n",
              "</style>\n",
              "<table border=\"1\" class=\"dataframe\">\n",
              "  <thead>\n",
              "    <tr style=\"text-align: right;\">\n",
              "      <th></th>\n",
              "      <th>ID_LAT_LON_YEAR_WEEK</th>\n",
              "      <th>latitude</th>\n",
              "      <th>longitude</th>\n",
              "      <th>year</th>\n",
              "      <th>week_no</th>\n",
              "      <th>SulphurDioxide_SO2_column_number_density</th>\n",
              "      <th>SulphurDioxide_SO2_column_number_density_amf</th>\n",
              "      <th>SulphurDioxide_SO2_slant_column_number_density</th>\n",
              "      <th>SulphurDioxide_cloud_fraction</th>\n",
              "      <th>SulphurDioxide_sensor_azimuth_angle</th>\n",
              "      <th>...</th>\n",
              "      <th>Cloud_cloud_top_height</th>\n",
              "      <th>Cloud_cloud_base_pressure</th>\n",
              "      <th>Cloud_cloud_base_height</th>\n",
              "      <th>Cloud_cloud_optical_depth</th>\n",
              "      <th>Cloud_surface_albedo</th>\n",
              "      <th>Cloud_sensor_azimuth_angle</th>\n",
              "      <th>Cloud_sensor_zenith_angle</th>\n",
              "      <th>Cloud_solar_azimuth_angle</th>\n",
              "      <th>Cloud_solar_zenith_angle</th>\n",
              "      <th>emission</th>\n",
              "    </tr>\n",
              "  </thead>\n",
              "  <tbody>\n",
              "    <tr>\n",
              "      <th>0</th>\n",
              "      <td>ID_-0.510_29.290_2019_00</td>\n",
              "      <td>-0.51</td>\n",
              "      <td>29.29</td>\n",
              "      <td>2019</td>\n",
              "      <td>0</td>\n",
              "      <td>-0.000108</td>\n",
              "      <td>0.603019</td>\n",
              "      <td>-0.000065</td>\n",
              "      <td>0.255668</td>\n",
              "      <td>-98.593887</td>\n",
              "      <td>...</td>\n",
              "      <td>3664.436218</td>\n",
              "      <td>61085.809570</td>\n",
              "      <td>2615.120483</td>\n",
              "      <td>15.568533</td>\n",
              "      <td>0.272292</td>\n",
              "      <td>-12.628986</td>\n",
              "      <td>35.632416</td>\n",
              "      <td>-138.786423</td>\n",
              "      <td>30.752140</td>\n",
              "      <td>3.750994</td>\n",
              "    </tr>\n",
              "    <tr>\n",
              "      <th>1</th>\n",
              "      <td>ID_-0.510_29.290_2019_01</td>\n",
              "      <td>-0.51</td>\n",
              "      <td>29.29</td>\n",
              "      <td>2019</td>\n",
              "      <td>1</td>\n",
              "      <td>0.000021</td>\n",
              "      <td>0.728214</td>\n",
              "      <td>0.000014</td>\n",
              "      <td>0.130988</td>\n",
              "      <td>16.592861</td>\n",
              "      <td>...</td>\n",
              "      <td>3651.190311</td>\n",
              "      <td>66969.478735</td>\n",
              "      <td>3174.572424</td>\n",
              "      <td>8.690601</td>\n",
              "      <td>0.256830</td>\n",
              "      <td>30.359375</td>\n",
              "      <td>39.557633</td>\n",
              "      <td>-145.183930</td>\n",
              "      <td>27.251779</td>\n",
              "      <td>4.025176</td>\n",
              "    </tr>\n",
              "    <tr>\n",
              "      <th>2</th>\n",
              "      <td>ID_-0.510_29.290_2019_02</td>\n",
              "      <td>-0.51</td>\n",
              "      <td>29.29</td>\n",
              "      <td>2019</td>\n",
              "      <td>2</td>\n",
              "      <td>0.000514</td>\n",
              "      <td>0.748199</td>\n",
              "      <td>0.000385</td>\n",
              "      <td>0.110018</td>\n",
              "      <td>72.795837</td>\n",
              "      <td>...</td>\n",
              "      <td>4216.986492</td>\n",
              "      <td>60068.894448</td>\n",
              "      <td>3516.282669</td>\n",
              "      <td>21.103410</td>\n",
              "      <td>0.251101</td>\n",
              "      <td>15.377883</td>\n",
              "      <td>30.401823</td>\n",
              "      <td>-142.519545</td>\n",
              "      <td>26.193296</td>\n",
              "      <td>4.231381</td>\n",
              "    </tr>\n",
              "    <tr>\n",
              "      <th>3</th>\n",
              "      <td>ID_-0.510_29.290_2019_03</td>\n",
              "      <td>-0.51</td>\n",
              "      <td>29.29</td>\n",
              "      <td>2019</td>\n",
              "      <td>3</td>\n",
              "      <td>NaN</td>\n",
              "      <td>NaN</td>\n",
              "      <td>NaN</td>\n",
              "      <td>NaN</td>\n",
              "      <td>NaN</td>\n",
              "      <td>...</td>\n",
              "      <td>5228.507736</td>\n",
              "      <td>51064.547339</td>\n",
              "      <td>4180.973322</td>\n",
              "      <td>15.386899</td>\n",
              "      <td>0.262043</td>\n",
              "      <td>-11.293399</td>\n",
              "      <td>24.380357</td>\n",
              "      <td>-132.665828</td>\n",
              "      <td>28.829155</td>\n",
              "      <td>4.305286</td>\n",
              "    </tr>\n",
              "    <tr>\n",
              "      <th>4</th>\n",
              "      <td>ID_-0.510_29.290_2019_04</td>\n",
              "      <td>-0.51</td>\n",
              "      <td>29.29</td>\n",
              "      <td>2019</td>\n",
              "      <td>4</td>\n",
              "      <td>-0.000079</td>\n",
              "      <td>0.676296</td>\n",
              "      <td>-0.000048</td>\n",
              "      <td>0.121164</td>\n",
              "      <td>4.121269</td>\n",
              "      <td>...</td>\n",
              "      <td>3980.598120</td>\n",
              "      <td>63751.125781</td>\n",
              "      <td>3355.710107</td>\n",
              "      <td>8.114694</td>\n",
              "      <td>0.235847</td>\n",
              "      <td>38.532263</td>\n",
              "      <td>37.392979</td>\n",
              "      <td>-141.509805</td>\n",
              "      <td>22.204612</td>\n",
              "      <td>4.347317</td>\n",
              "    </tr>\n",
              "  </tbody>\n",
              "</table>\n",
              "<p>5 rows × 76 columns</p>\n",
              "</div>\n",
              "    <div class=\"colab-df-buttons\">\n",
              "\n",
              "  <div class=\"colab-df-container\">\n",
              "    <button class=\"colab-df-convert\" onclick=\"convertToInteractive('df-86adbddb-7462-44f7-a4e4-d9194951bd5c')\"\n",
              "            title=\"Convert this dataframe to an interactive table.\"\n",
              "            style=\"display:none;\">\n",
              "\n",
              "  <svg xmlns=\"http://www.w3.org/2000/svg\" height=\"24px\" viewBox=\"0 -960 960 960\">\n",
              "    <path d=\"M120-120v-720h720v720H120Zm60-500h600v-160H180v160Zm220 220h160v-160H400v160Zm0 220h160v-160H400v160ZM180-400h160v-160H180v160Zm440 0h160v-160H620v160ZM180-180h160v-160H180v160Zm440 0h160v-160H620v160Z\"/>\n",
              "  </svg>\n",
              "    </button>\n",
              "\n",
              "  <style>\n",
              "    .colab-df-container {\n",
              "      display:flex;\n",
              "      gap: 12px;\n",
              "    }\n",
              "\n",
              "    .colab-df-convert {\n",
              "      background-color: #E8F0FE;\n",
              "      border: none;\n",
              "      border-radius: 50%;\n",
              "      cursor: pointer;\n",
              "      display: none;\n",
              "      fill: #1967D2;\n",
              "      height: 32px;\n",
              "      padding: 0 0 0 0;\n",
              "      width: 32px;\n",
              "    }\n",
              "\n",
              "    .colab-df-convert:hover {\n",
              "      background-color: #E2EBFA;\n",
              "      box-shadow: 0px 1px 2px rgba(60, 64, 67, 0.3), 0px 1px 3px 1px rgba(60, 64, 67, 0.15);\n",
              "      fill: #174EA6;\n",
              "    }\n",
              "\n",
              "    .colab-df-buttons div {\n",
              "      margin-bottom: 4px;\n",
              "    }\n",
              "\n",
              "    [theme=dark] .colab-df-convert {\n",
              "      background-color: #3B4455;\n",
              "      fill: #D2E3FC;\n",
              "    }\n",
              "\n",
              "    [theme=dark] .colab-df-convert:hover {\n",
              "      background-color: #434B5C;\n",
              "      box-shadow: 0px 1px 3px 1px rgba(0, 0, 0, 0.15);\n",
              "      filter: drop-shadow(0px 1px 2px rgba(0, 0, 0, 0.3));\n",
              "      fill: #FFFFFF;\n",
              "    }\n",
              "  </style>\n",
              "\n",
              "    <script>\n",
              "      const buttonEl =\n",
              "        document.querySelector('#df-86adbddb-7462-44f7-a4e4-d9194951bd5c button.colab-df-convert');\n",
              "      buttonEl.style.display =\n",
              "        google.colab.kernel.accessAllowed ? 'block' : 'none';\n",
              "\n",
              "      async function convertToInteractive(key) {\n",
              "        const element = document.querySelector('#df-86adbddb-7462-44f7-a4e4-d9194951bd5c');\n",
              "        const dataTable =\n",
              "          await google.colab.kernel.invokeFunction('convertToInteractive',\n",
              "                                                    [key], {});\n",
              "        if (!dataTable) return;\n",
              "\n",
              "        const docLinkHtml = 'Like what you see? Visit the ' +\n",
              "          '<a target=\"_blank\" href=https://colab.research.google.com/notebooks/data_table.ipynb>data table notebook</a>'\n",
              "          + ' to learn more about interactive tables.';\n",
              "        element.innerHTML = '';\n",
              "        dataTable['output_type'] = 'display_data';\n",
              "        await google.colab.output.renderOutput(dataTable, element);\n",
              "        const docLink = document.createElement('div');\n",
              "        docLink.innerHTML = docLinkHtml;\n",
              "        element.appendChild(docLink);\n",
              "      }\n",
              "    </script>\n",
              "  </div>\n",
              "\n",
              "\n",
              "<div id=\"df-8c8f58f4-c234-49e7-bf3f-ce15e907616b\">\n",
              "  <button class=\"colab-df-quickchart\" onclick=\"quickchart('df-8c8f58f4-c234-49e7-bf3f-ce15e907616b')\"\n",
              "            title=\"Suggest charts.\"\n",
              "            style=\"display:none;\">\n",
              "\n",
              "<svg xmlns=\"http://www.w3.org/2000/svg\" height=\"24px\"viewBox=\"0 0 24 24\"\n",
              "     width=\"24px\">\n",
              "    <g>\n",
              "        <path d=\"M19 3H5c-1.1 0-2 .9-2 2v14c0 1.1.9 2 2 2h14c1.1 0 2-.9 2-2V5c0-1.1-.9-2-2-2zM9 17H7v-7h2v7zm4 0h-2V7h2v10zm4 0h-2v-4h2v4z\"/>\n",
              "    </g>\n",
              "</svg>\n",
              "  </button>\n",
              "\n",
              "<style>\n",
              "  .colab-df-quickchart {\n",
              "      --bg-color: #E8F0FE;\n",
              "      --fill-color: #1967D2;\n",
              "      --hover-bg-color: #E2EBFA;\n",
              "      --hover-fill-color: #174EA6;\n",
              "      --disabled-fill-color: #AAA;\n",
              "      --disabled-bg-color: #DDD;\n",
              "  }\n",
              "\n",
              "  [theme=dark] .colab-df-quickchart {\n",
              "      --bg-color: #3B4455;\n",
              "      --fill-color: #D2E3FC;\n",
              "      --hover-bg-color: #434B5C;\n",
              "      --hover-fill-color: #FFFFFF;\n",
              "      --disabled-bg-color: #3B4455;\n",
              "      --disabled-fill-color: #666;\n",
              "  }\n",
              "\n",
              "  .colab-df-quickchart {\n",
              "    background-color: var(--bg-color);\n",
              "    border: none;\n",
              "    border-radius: 50%;\n",
              "    cursor: pointer;\n",
              "    display: none;\n",
              "    fill: var(--fill-color);\n",
              "    height: 32px;\n",
              "    padding: 0;\n",
              "    width: 32px;\n",
              "  }\n",
              "\n",
              "  .colab-df-quickchart:hover {\n",
              "    background-color: var(--hover-bg-color);\n",
              "    box-shadow: 0 1px 2px rgba(60, 64, 67, 0.3), 0 1px 3px 1px rgba(60, 64, 67, 0.15);\n",
              "    fill: var(--button-hover-fill-color);\n",
              "  }\n",
              "\n",
              "  .colab-df-quickchart-complete:disabled,\n",
              "  .colab-df-quickchart-complete:disabled:hover {\n",
              "    background-color: var(--disabled-bg-color);\n",
              "    fill: var(--disabled-fill-color);\n",
              "    box-shadow: none;\n",
              "  }\n",
              "\n",
              "  .colab-df-spinner {\n",
              "    border: 2px solid var(--fill-color);\n",
              "    border-color: transparent;\n",
              "    border-bottom-color: var(--fill-color);\n",
              "    animation:\n",
              "      spin 1s steps(1) infinite;\n",
              "  }\n",
              "\n",
              "  @keyframes spin {\n",
              "    0% {\n",
              "      border-color: transparent;\n",
              "      border-bottom-color: var(--fill-color);\n",
              "      border-left-color: var(--fill-color);\n",
              "    }\n",
              "    20% {\n",
              "      border-color: transparent;\n",
              "      border-left-color: var(--fill-color);\n",
              "      border-top-color: var(--fill-color);\n",
              "    }\n",
              "    30% {\n",
              "      border-color: transparent;\n",
              "      border-left-color: var(--fill-color);\n",
              "      border-top-color: var(--fill-color);\n",
              "      border-right-color: var(--fill-color);\n",
              "    }\n",
              "    40% {\n",
              "      border-color: transparent;\n",
              "      border-right-color: var(--fill-color);\n",
              "      border-top-color: var(--fill-color);\n",
              "    }\n",
              "    60% {\n",
              "      border-color: transparent;\n",
              "      border-right-color: var(--fill-color);\n",
              "    }\n",
              "    80% {\n",
              "      border-color: transparent;\n",
              "      border-right-color: var(--fill-color);\n",
              "      border-bottom-color: var(--fill-color);\n",
              "    }\n",
              "    90% {\n",
              "      border-color: transparent;\n",
              "      border-bottom-color: var(--fill-color);\n",
              "    }\n",
              "  }\n",
              "</style>\n",
              "\n",
              "  <script>\n",
              "    async function quickchart(key) {\n",
              "      const quickchartButtonEl =\n",
              "        document.querySelector('#' + key + ' button');\n",
              "      quickchartButtonEl.disabled = true;  // To prevent multiple clicks.\n",
              "      quickchartButtonEl.classList.add('colab-df-spinner');\n",
              "      try {\n",
              "        const charts = await google.colab.kernel.invokeFunction(\n",
              "            'suggestCharts', [key], {});\n",
              "      } catch (error) {\n",
              "        console.error('Error during call to suggestCharts:', error);\n",
              "      }\n",
              "      quickchartButtonEl.classList.remove('colab-df-spinner');\n",
              "      quickchartButtonEl.classList.add('colab-df-quickchart-complete');\n",
              "    }\n",
              "    (() => {\n",
              "      let quickchartButtonEl =\n",
              "        document.querySelector('#df-8c8f58f4-c234-49e7-bf3f-ce15e907616b button');\n",
              "      quickchartButtonEl.style.display =\n",
              "        google.colab.kernel.accessAllowed ? 'block' : 'none';\n",
              "    })();\n",
              "  </script>\n",
              "</div>\n",
              "    </div>\n",
              "  </div>\n"
            ]
          },
          "metadata": {},
          "execution_count": 334
        }
      ]
    },
    {
      "cell_type": "markdown",
      "source": [
        "# **Preprocessing data**\n",
        "\n",
        "filling null values with mean and redunant  columns"
      ],
      "metadata": {
        "id": "WvEVPLQ1TzHO"
      }
    },
    {
      "cell_type": "code",
      "source": [
        "len(df)"
      ],
      "metadata": {
        "colab": {
          "base_uri": "https://localhost:8080/"
        },
        "id": "0CyFjSIg4huN",
        "outputId": "dfee9cc4-b974-4a6a-b2d1-c24b5c65d313"
      },
      "execution_count": null,
      "outputs": [
        {
          "output_type": "execute_result",
          "data": {
            "text/plain": [
              "79023"
            ]
          },
          "metadata": {},
          "execution_count": 335
        }
      ]
    },
    {
      "cell_type": "code",
      "source": [
        "df.isnull().sum()"
      ],
      "metadata": {
        "colab": {
          "base_uri": "https://localhost:8080/"
        },
        "id": "VEXoPlbAx6pW",
        "outputId": "87b6b3f8-fdb1-453f-b110-fbaa9ccbe57c"
      },
      "execution_count": null,
      "outputs": [
        {
          "output_type": "execute_result",
          "data": {
            "text/plain": [
              "ID_LAT_LON_YEAR_WEEK            0\n",
              "latitude                        0\n",
              "longitude                       0\n",
              "year                            0\n",
              "week_no                         0\n",
              "                             ... \n",
              "Cloud_sensor_azimuth_angle    484\n",
              "Cloud_sensor_zenith_angle     484\n",
              "Cloud_solar_azimuth_angle     484\n",
              "Cloud_solar_zenith_angle      484\n",
              "emission                        0\n",
              "Length: 76, dtype: int64"
            ]
          },
          "metadata": {},
          "execution_count": 336
        }
      ]
    },
    {
      "cell_type": "code",
      "source": [],
      "metadata": {
        "id": "0j5xeNf02xAL"
      },
      "execution_count": null,
      "outputs": []
    },
    {
      "cell_type": "code",
      "source": [],
      "metadata": {
        "id": "oEsMpCEo3kU8"
      },
      "execution_count": null,
      "outputs": []
    },
    {
      "cell_type": "code",
      "source": [
        "df=df.drop([\"ID_LAT_LON_YEAR_WEEK\"],axis=1)\n",
        "'''\n",
        "test_df=test_df.drop([\"ID_LAT_LON_YEAR_WEEK\"],axis=1)'''"
      ],
      "metadata": {
        "id": "D0RU1Ss2Q2aC",
        "colab": {
          "base_uri": "https://localhost:8080/",
          "height": 36
        },
        "outputId": "83e461cc-81c3-4a0a-b2e5-3c935ddd3990"
      },
      "execution_count": null,
      "outputs": [
        {
          "output_type": "execute_result",
          "data": {
            "text/plain": [
              "'\\ntest_df=test_df.drop([\"ID_LAT_LON_YEAR_WEEK\"],axis=1)'"
            ],
            "application/vnd.google.colaboratory.intrinsic+json": {
              "type": "string"
            }
          },
          "metadata": {},
          "execution_count": 337
        }
      ]
    },
    {
      "cell_type": "code",
      "source": [
        "label=df[\"emission\"]\n"
      ],
      "metadata": {
        "id": "8LFMoKrbR45b"
      },
      "execution_count": null,
      "outputs": []
    },
    {
      "cell_type": "code",
      "source": [
        "df.dtypes"
      ],
      "metadata": {
        "colab": {
          "base_uri": "https://localhost:8080/"
        },
        "id": "kLL_5cUDsg91",
        "outputId": "90049972-69ed-4d43-fd90-317314b3a9d0"
      },
      "execution_count": null,
      "outputs": [
        {
          "output_type": "execute_result",
          "data": {
            "text/plain": [
              "latitude                                    float64\n",
              "longitude                                   float64\n",
              "year                                          int64\n",
              "week_no                                       int64\n",
              "SulphurDioxide_SO2_column_number_density    float64\n",
              "                                             ...   \n",
              "Cloud_sensor_azimuth_angle                  float64\n",
              "Cloud_sensor_zenith_angle                   float64\n",
              "Cloud_solar_azimuth_angle                   float64\n",
              "Cloud_solar_zenith_angle                    float64\n",
              "emission                                    float64\n",
              "Length: 75, dtype: object"
            ]
          },
          "metadata": {},
          "execution_count": 339
        }
      ]
    },
    {
      "cell_type": "code",
      "source": [
        "col=df.columns\n",
        "col"
      ],
      "metadata": {
        "id": "ewNhfIsRUE6o",
        "colab": {
          "base_uri": "https://localhost:8080/"
        },
        "outputId": "264169d7-16b7-4eac-d7bb-5d8ae35b7975"
      },
      "execution_count": null,
      "outputs": [
        {
          "output_type": "execute_result",
          "data": {
            "text/plain": [
              "Index(['latitude', 'longitude', 'year', 'week_no',\n",
              "       'SulphurDioxide_SO2_column_number_density',\n",
              "       'SulphurDioxide_SO2_column_number_density_amf',\n",
              "       'SulphurDioxide_SO2_slant_column_number_density',\n",
              "       'SulphurDioxide_cloud_fraction', 'SulphurDioxide_sensor_azimuth_angle',\n",
              "       'SulphurDioxide_sensor_zenith_angle',\n",
              "       'SulphurDioxide_solar_azimuth_angle',\n",
              "       'SulphurDioxide_solar_zenith_angle',\n",
              "       'SulphurDioxide_SO2_column_number_density_15km',\n",
              "       'CarbonMonoxide_CO_column_number_density',\n",
              "       'CarbonMonoxide_H2O_column_number_density',\n",
              "       'CarbonMonoxide_cloud_height', 'CarbonMonoxide_sensor_altitude',\n",
              "       'CarbonMonoxide_sensor_azimuth_angle',\n",
              "       'CarbonMonoxide_sensor_zenith_angle',\n",
              "       'CarbonMonoxide_solar_azimuth_angle',\n",
              "       'CarbonMonoxide_solar_zenith_angle',\n",
              "       'NitrogenDioxide_NO2_column_number_density',\n",
              "       'NitrogenDioxide_tropospheric_NO2_column_number_density',\n",
              "       'NitrogenDioxide_stratospheric_NO2_column_number_density',\n",
              "       'NitrogenDioxide_NO2_slant_column_number_density',\n",
              "       'NitrogenDioxide_tropopause_pressure',\n",
              "       'NitrogenDioxide_absorbing_aerosol_index',\n",
              "       'NitrogenDioxide_cloud_fraction', 'NitrogenDioxide_sensor_altitude',\n",
              "       'NitrogenDioxide_sensor_azimuth_angle',\n",
              "       'NitrogenDioxide_sensor_zenith_angle',\n",
              "       'NitrogenDioxide_solar_azimuth_angle',\n",
              "       'NitrogenDioxide_solar_zenith_angle',\n",
              "       'Formaldehyde_tropospheric_HCHO_column_number_density',\n",
              "       'Formaldehyde_tropospheric_HCHO_column_number_density_amf',\n",
              "       'Formaldehyde_HCHO_slant_column_number_density',\n",
              "       'Formaldehyde_cloud_fraction', 'Formaldehyde_solar_zenith_angle',\n",
              "       'Formaldehyde_solar_azimuth_angle', 'Formaldehyde_sensor_zenith_angle',\n",
              "       'Formaldehyde_sensor_azimuth_angle',\n",
              "       'UvAerosolIndex_absorbing_aerosol_index',\n",
              "       'UvAerosolIndex_sensor_altitude', 'UvAerosolIndex_sensor_azimuth_angle',\n",
              "       'UvAerosolIndex_sensor_zenith_angle',\n",
              "       'UvAerosolIndex_solar_azimuth_angle',\n",
              "       'UvAerosolIndex_solar_zenith_angle', 'Ozone_O3_column_number_density',\n",
              "       'Ozone_O3_column_number_density_amf',\n",
              "       'Ozone_O3_slant_column_number_density',\n",
              "       'Ozone_O3_effective_temperature', 'Ozone_cloud_fraction',\n",
              "       'Ozone_sensor_azimuth_angle', 'Ozone_sensor_zenith_angle',\n",
              "       'Ozone_solar_azimuth_angle', 'Ozone_solar_zenith_angle',\n",
              "       'UvAerosolLayerHeight_aerosol_height',\n",
              "       'UvAerosolLayerHeight_aerosol_pressure',\n",
              "       'UvAerosolLayerHeight_aerosol_optical_depth',\n",
              "       'UvAerosolLayerHeight_sensor_zenith_angle',\n",
              "       'UvAerosolLayerHeight_sensor_azimuth_angle',\n",
              "       'UvAerosolLayerHeight_solar_azimuth_angle',\n",
              "       'UvAerosolLayerHeight_solar_zenith_angle', 'Cloud_cloud_fraction',\n",
              "       'Cloud_cloud_top_pressure', 'Cloud_cloud_top_height',\n",
              "       'Cloud_cloud_base_pressure', 'Cloud_cloud_base_height',\n",
              "       'Cloud_cloud_optical_depth', 'Cloud_surface_albedo',\n",
              "       'Cloud_sensor_azimuth_angle', 'Cloud_sensor_zenith_angle',\n",
              "       'Cloud_solar_azimuth_angle', 'Cloud_solar_zenith_angle', 'emission'],\n",
              "      dtype='object')"
            ]
          },
          "metadata": {},
          "execution_count": 340
        }
      ]
    },
    {
      "cell_type": "code",
      "source": [
        "import tensorflow as tf\n",
        "from tensorflow.keras import layers"
      ],
      "metadata": {
        "id": "Qr02sT5pSK-W"
      },
      "execution_count": null,
      "outputs": []
    },
    {
      "cell_type": "code",
      "source": [
        "mean=df.mean()"
      ],
      "metadata": {
        "id": "vzn0NuCE9V8i"
      },
      "execution_count": null,
      "outputs": []
    },
    {
      "cell_type": "code",
      "source": [
        "mean"
      ],
      "metadata": {
        "colab": {
          "base_uri": "https://localhost:8080/"
        },
        "id": "MvEzlesY9YMP",
        "outputId": "cb07ffeb-8e46-44a0-8c02-9043efe841ed"
      },
      "execution_count": null,
      "outputs": [
        {
          "output_type": "execute_result",
          "data": {
            "text/plain": [
              "latitude                                      -1.891072\n",
              "longitude                                     29.880155\n",
              "year                                        2020.000000\n",
              "week_no                                       26.000000\n",
              "SulphurDioxide_SO2_column_number_density       0.000048\n",
              "                                               ...     \n",
              "Cloud_sensor_azimuth_angle                   -10.784832\n",
              "Cloud_sensor_zenith_angle                     40.436976\n",
              "Cloud_solar_azimuth_angle                    -86.800583\n",
              "Cloud_solar_zenith_angle                      27.925981\n",
              "emission                                      81.940552\n",
              "Length: 75, dtype: float64"
            ]
          },
          "metadata": {},
          "execution_count": 343
        }
      ]
    },
    {
      "cell_type": "code",
      "source": [
        "df.fillna(mean,inplace=True)"
      ],
      "metadata": {
        "id": "o1CVO2lm9ckN"
      },
      "execution_count": null,
      "outputs": []
    },
    {
      "cell_type": "code",
      "source": [
        "df.isnull().sum()"
      ],
      "metadata": {
        "colab": {
          "base_uri": "https://localhost:8080/"
        },
        "id": "92AChoyO22za",
        "outputId": "c09b5ea0-e09e-49aa-fdd0-d512bf43fd65"
      },
      "execution_count": null,
      "outputs": [
        {
          "output_type": "execute_result",
          "data": {
            "text/plain": [
              "latitude                                    0\n",
              "longitude                                   0\n",
              "year                                        0\n",
              "week_no                                     0\n",
              "SulphurDioxide_SO2_column_number_density    0\n",
              "                                           ..\n",
              "Cloud_sensor_azimuth_angle                  0\n",
              "Cloud_sensor_zenith_angle                   0\n",
              "Cloud_solar_azimuth_angle                   0\n",
              "Cloud_solar_zenith_angle                    0\n",
              "emission                                    0\n",
              "Length: 75, dtype: int64"
            ]
          },
          "metadata": {},
          "execution_count": 345
        }
      ]
    },
    {
      "cell_type": "code",
      "source": [],
      "metadata": {
        "id": "rkUn1EAu9hTQ"
      },
      "execution_count": null,
      "outputs": []
    },
    {
      "cell_type": "code",
      "source": [
        "\n",
        "X=df.drop(['latitude', 'longitude', 'year', 'week_no','emission'],axis=1)\n",
        "n_col=X.columns\n"
      ],
      "metadata": {
        "id": "cBMQNUv9TiZ7"
      },
      "execution_count": null,
      "outputs": []
    },
    {
      "cell_type": "code",
      "source": [
        "#df=df.dropna()\n"
      ],
      "metadata": {
        "id": "CG1sUzz8RLrN"
      },
      "execution_count": null,
      "outputs": []
    },
    {
      "cell_type": "code",
      "source": [
        "X=X.to_numpy()\n",
        "X=np.float32(X)"
      ],
      "metadata": {
        "id": "erEbI5GTrZnt"
      },
      "execution_count": null,
      "outputs": []
    },
    {
      "cell_type": "code",
      "source": [
        "len(X)"
      ],
      "metadata": {
        "colab": {
          "base_uri": "https://localhost:8080/"
        },
        "id": "1fuQhAjz3mcX",
        "outputId": "7ee5e9ac-6c07-4cf3-caea-ebb2f5fcf5af"
      },
      "execution_count": null,
      "outputs": [
        {
          "output_type": "execute_result",
          "data": {
            "text/plain": [
              "79023"
            ]
          },
          "metadata": {},
          "execution_count": 349
        }
      ]
    },
    {
      "cell_type": "code",
      "source": [
        "y=df[\"emission\"]"
      ],
      "metadata": {
        "id": "0HBejzDKRkRV"
      },
      "execution_count": null,
      "outputs": []
    },
    {
      "cell_type": "markdown",
      "source": [
        "Using normalization to fit the model"
      ],
      "metadata": {
        "id": "9OuvDbz0UJ-E"
      }
    },
    {
      "cell_type": "code",
      "source": [
        "from sklearn.preprocessing import MinMaxScaler\n",
        "scaler = MinMaxScaler()\n",
        "scaler.fit(X)\n",
        "X=scaler.transform(X)\n"
      ],
      "metadata": {
        "id": "ZXvsHgnaTKTJ"
      },
      "execution_count": null,
      "outputs": []
    },
    {
      "cell_type": "code",
      "source": [
        "type(y)\n",
        "import numpy as np\n",
        "\n",
        "y=y.to_numpy()\n",
        "y=np.float32(y)"
      ],
      "metadata": {
        "id": "uoni2LgzcNsx"
      },
      "execution_count": null,
      "outputs": []
    },
    {
      "cell_type": "code",
      "source": [
        "len(X),len(y)"
      ],
      "metadata": {
        "colab": {
          "base_uri": "https://localhost:8080/"
        },
        "id": "uxhFTe4O4vYk",
        "outputId": "0f2eb586-620c-48a2-e135-485a2371552e"
      },
      "execution_count": null,
      "outputs": [
        {
          "output_type": "execute_result",
          "data": {
            "text/plain": [
              "(79023, 79023)"
            ]
          },
          "metadata": {},
          "execution_count": 353
        }
      ]
    },
    {
      "cell_type": "markdown",
      "source": [
        "# **Method to split data**\n",
        "using slicing of dataset instead of train_test_split() method to prevent data leaking into future is important to implement"
      ],
      "metadata": {
        "id": "CPC-dYN7WZDe"
      }
    },
    {
      "cell_type": "code",
      "source": [
        "def make_train_test_splits(windows, labels, test_split=0.2):\n",
        "  \"\"\"\n",
        "  Splits matching pairs of windows and labels into train and test splits.\n",
        "  \"\"\"\n",
        "  split_size = int(len(windows) * (1-test_split)) # this will default to 80% train/20% test\n",
        "  train_windows = windows[:split_size]\n",
        "  train_labels = labels[:split_size]\n",
        "  test_windows = windows[split_size:]\n",
        "  test_labels = labels[split_size:]\n",
        "  return train_windows, test_windows, train_labels, test_labels"
      ],
      "metadata": {
        "id": "OiYviBZcXFec"
      },
      "execution_count": null,
      "outputs": []
    },
    {
      "cell_type": "code",
      "source": [
        "train_para,test_para,train_emi,test_emi=make_train_test_splits(X,y, test_split=0.2)"
      ],
      "metadata": {
        "id": "TDYwZHbfXGZ2"
      },
      "execution_count": null,
      "outputs": []
    },
    {
      "cell_type": "code",
      "source": [
        "train_para"
      ],
      "metadata": {
        "colab": {
          "base_uri": "https://localhost:8080/"
        },
        "id": "cERkdZGySw4g",
        "outputId": "fffdab04-1b0d-46f5-af26-5f7038b1e205"
      },
      "execution_count": null,
      "outputs": [
        {
          "output_type": "execute_result",
          "data": {
            "text/plain": [
              "array([[0.17118213, 0.21978432, 0.160403  , ..., 0.5183846 , 0.11220598,\n",
              "        0.6380435 ],\n",
              "       [0.19602686, 0.29596347, 0.17581093, ..., 0.58073676, 0.06329942,\n",
              "        0.52600384],\n",
              "       [0.291193  , 0.30812413, 0.24823704, ..., 0.4352965 , 0.08366764,\n",
              "        0.49212387],\n",
              "       ...,\n",
              "       [0.20130081, 0.3608491 , 0.17999533, ..., 0.67704815, 0.47172332,\n",
              "        0.49976453],\n",
              "       [0.15357761, 0.2939128 , 0.14490837, ..., 0.6342434 , 0.42096317,\n",
              "        0.5358033 ],\n",
              "       [0.19604267, 0.37716028, 0.17757384, ..., 0.46169925, 0.36164385,\n",
              "        0.46201107]], dtype=float32)"
            ]
          },
          "metadata": {},
          "execution_count": 356
        }
      ]
    },
    {
      "cell_type": "code",
      "source": [
        "len(train_para),len(train_emi)"
      ],
      "metadata": {
        "colab": {
          "base_uri": "https://localhost:8080/"
        },
        "id": "rQhHHfdVqFfa",
        "outputId": "3cc2e5cc-5c2c-4b59-a5f1-8854276c62ee"
      },
      "execution_count": null,
      "outputs": [
        {
          "output_type": "execute_result",
          "data": {
            "text/plain": [
              "(63218, 63218)"
            ]
          },
          "metadata": {},
          "execution_count": 357
        }
      ]
    },
    {
      "cell_type": "code",
      "source": [
        "len(X)"
      ],
      "metadata": {
        "colab": {
          "base_uri": "https://localhost:8080/"
        },
        "id": "goK_xVPzqSuZ",
        "outputId": "11f56e95-bf5b-4f88-8dc1-25cceaa16bef"
      },
      "execution_count": null,
      "outputs": [
        {
          "output_type": "execute_result",
          "data": {
            "text/plain": [
              "79023"
            ]
          },
          "metadata": {},
          "execution_count": 358
        }
      ]
    },
    {
      "cell_type": "code",
      "source": [
        "y"
      ],
      "metadata": {
        "colab": {
          "base_uri": "https://localhost:8080/"
        },
        "id": "nUYh8WceqOi2",
        "outputId": "588ba242-efcd-4346-e002-e6438ce97477"
      },
      "execution_count": null,
      "outputs": [
        {
          "output_type": "execute_result",
          "data": {
            "text/plain": [
              "array([ 3.7509942,  4.0251765,  4.231381 , ..., 29.131205 , 28.125792 ,\n",
              "       27.239302 ], dtype=float32)"
            ]
          },
          "metadata": {},
          "execution_count": 359
        }
      ]
    },
    {
      "cell_type": "code",
      "source": [
        "X.dtype,y.dtype"
      ],
      "metadata": {
        "colab": {
          "base_uri": "https://localhost:8080/"
        },
        "id": "4I5f6rls5pws",
        "outputId": "7ee3189c-85b6-4d6f-c1a3-5c19537669a9"
      },
      "execution_count": null,
      "outputs": [
        {
          "output_type": "execute_result",
          "data": {
            "text/plain": [
              "(dtype('float32'), dtype('float32'))"
            ]
          },
          "metadata": {},
          "execution_count": 360
        }
      ]
    },
    {
      "cell_type": "markdown",
      "source": [
        "Parameter testing model"
      ],
      "metadata": {
        "id": "27cfUft_UOU3"
      }
    },
    {
      "cell_type": "code",
      "source": [
        "import tensorflow as tf\n",
        "from tensorflow.keras import layers\n",
        "tf.random.set_seed(42)\n",
        "\n",
        "model=tf.keras.Sequential([\n",
        "    layers.Dense(512,activation=\"relu\",input_shape=(70,),kernel_initializer='random_normal'),\n",
        "    layers.Dense(256,activation=\"relu\",kernel_initializer='random_normal'),\n",
        "    layers.Dense(1,activation=\"sigmoid\")\n",
        "])\n",
        "\n",
        "model.compile(loss=tf.keras.losses.MeanAbsoluteError(),\n",
        "              optimizer=tf.keras.optimizers.Adam(learning_rate=0.001),\n",
        "              metrics=[\"mae\"])\n",
        "model.fit(X,y,epochs=10,verbose=1)"
      ],
      "metadata": {
        "id": "lnXittt1UNS6",
        "colab": {
          "base_uri": "https://localhost:8080/"
        },
        "outputId": "52449a66-ab23-4c16-9aaa-8dcfbf0e2404"
      },
      "execution_count": null,
      "outputs": [
        {
          "output_type": "stream",
          "name": "stdout",
          "text": [
            "Epoch 1/10\n",
            "2470/2470 [==============================] - 20s 8ms/step - loss: 81.0934 - mae: 81.0934\n",
            "Epoch 2/10\n",
            "2470/2470 [==============================] - 20s 8ms/step - loss: 81.0930 - mae: 81.0930\n",
            "Epoch 3/10\n",
            "2470/2470 [==============================] - 19s 8ms/step - loss: 81.0930 - mae: 81.0930\n",
            "Epoch 4/10\n",
            "2470/2470 [==============================] - 19s 8ms/step - loss: 81.0930 - mae: 81.0930\n",
            "Epoch 5/10\n",
            "2470/2470 [==============================] - 18s 7ms/step - loss: 81.0929 - mae: 81.0929\n",
            "Epoch 6/10\n",
            "2470/2470 [==============================] - 18s 7ms/step - loss: 81.0929 - mae: 81.0929\n",
            "Epoch 7/10\n",
            "2470/2470 [==============================] - 18s 7ms/step - loss: 81.0929 - mae: 81.0929\n",
            "Epoch 8/10\n",
            "2470/2470 [==============================] - 17s 7ms/step - loss: 81.0930 - mae: 81.0930\n",
            "Epoch 9/10\n",
            "2470/2470 [==============================] - 17s 7ms/step - loss: 81.0929 - mae: 81.0929\n",
            "Epoch 10/10\n",
            "2470/2470 [==============================] - 18s 7ms/step - loss: 81.0930 - mae: 81.0930\n"
          ]
        },
        {
          "output_type": "execute_result",
          "data": {
            "text/plain": [
              "<keras.callbacks.History at 0x7b0fb904f520>"
            ]
          },
          "metadata": {},
          "execution_count": 274
        }
      ]
    },
    {
      "cell_type": "code",
      "source": [
        "max(df[\"emission\"])"
      ],
      "metadata": {
        "colab": {
          "base_uri": "https://localhost:8080/"
        },
        "id": "tsY6BKxHujvq",
        "outputId": "8be59168-d916-4ac6-e6b9-5de2f898a2fe"
      },
      "execution_count": null,
      "outputs": [
        {
          "output_type": "execute_result",
          "data": {
            "text/plain": [
              "3167.768"
            ]
          },
          "metadata": {},
          "execution_count": 275
        }
      ]
    },
    {
      "cell_type": "code",
      "source": [
        "y.dtype"
      ],
      "metadata": {
        "colab": {
          "base_uri": "https://localhost:8080/"
        },
        "id": "1qci5DcSurF8",
        "outputId": "c4ab5519-4fd1-4fb0-f6dd-e0c14129ebce"
      },
      "execution_count": null,
      "outputs": [
        {
          "output_type": "execute_result",
          "data": {
            "text/plain": [
              "dtype('float32')"
            ]
          },
          "metadata": {},
          "execution_count": 276
        }
      ]
    },
    {
      "cell_type": "markdown",
      "source": [
        "Main model model"
      ],
      "metadata": {
        "id": "rDGslWSmURlg"
      }
    },
    {
      "cell_type": "code",
      "source": [
        "input=layers.Input(shape=(70,))\n",
        "x=layers.Dense(64, activation=\"relu\")(input)\n",
        "\n",
        "x=layers.Dense(64, activation=\"relu\")(x)\n",
        "outputs=layers.Dense(1)(x)\n",
        "\n",
        "\n",
        "model1 = tf.keras.Model(inputs=input, outputs=outputs)\n",
        "model1.compile(loss=tf.keras.losses.MeanSquaredError(),\n",
        "              optimizer=tf.keras.optimizers.Adam())"
      ],
      "metadata": {
        "id": "KunAGKXEsG00"
      },
      "execution_count": null,
      "outputs": []
    },
    {
      "cell_type": "code",
      "source": [
        "model1.fit(train_para,train_emi,epochs=20,validation_data=(test_para,test_emi))"
      ],
      "metadata": {
        "colab": {
          "base_uri": "https://localhost:8080/"
        },
        "id": "E9xo6ZxfteNh",
        "outputId": "6fc24757-28a8-4991-ea38-f4e74fc9fc9f"
      },
      "execution_count": null,
      "outputs": [
        {
          "output_type": "stream",
          "name": "stdout",
          "text": [
            "Epoch 1/20\n",
            "1976/1976 [==============================] - 6s 3ms/step - loss: 25301.7441 - val_loss: 5526.0581\n",
            "Epoch 2/20\n",
            "1976/1976 [==============================] - 6s 3ms/step - loss: 24928.6055 - val_loss: 5526.4019\n",
            "Epoch 3/20\n",
            "1976/1976 [==============================] - 5s 2ms/step - loss: 24784.8848 - val_loss: 6350.2417\n",
            "Epoch 4/20\n",
            "1976/1976 [==============================] - 5s 2ms/step - loss: 24664.5508 - val_loss: 8235.2373\n",
            "Epoch 5/20\n",
            "1976/1976 [==============================] - 6s 3ms/step - loss: 24560.4395 - val_loss: 6961.7622\n",
            "Epoch 6/20\n",
            "1976/1976 [==============================] - 5s 2ms/step - loss: 24493.2715 - val_loss: 8903.1357\n",
            "Epoch 7/20\n",
            "1976/1976 [==============================] - 6s 3ms/step - loss: 24454.3965 - val_loss: 9240.3389\n",
            "Epoch 8/20\n",
            "1976/1976 [==============================] - 5s 3ms/step - loss: 24416.0137 - val_loss: 11142.2500\n",
            "Epoch 9/20\n",
            "1976/1976 [==============================] - 5s 2ms/step - loss: 24402.9570 - val_loss: 11951.0117\n",
            "Epoch 10/20\n",
            "1976/1976 [==============================] - 6s 3ms/step - loss: 24390.7520 - val_loss: 8073.2334\n",
            "Epoch 11/20\n",
            "1976/1976 [==============================] - 5s 2ms/step - loss: 24372.1738 - val_loss: 9770.4414\n",
            "Epoch 12/20\n",
            "1976/1976 [==============================] - 6s 3ms/step - loss: 24365.6855 - val_loss: 9041.8408\n",
            "Epoch 13/20\n",
            "1976/1976 [==============================] - 5s 2ms/step - loss: 24342.4863 - val_loss: 8544.0518\n",
            "Epoch 14/20\n",
            "1976/1976 [==============================] - 5s 3ms/step - loss: 24336.4023 - val_loss: 12187.7402\n",
            "Epoch 15/20\n",
            "1976/1976 [==============================] - 6s 3ms/step - loss: 24339.5469 - val_loss: 9765.1230\n",
            "Epoch 16/20\n",
            "1976/1976 [==============================] - 5s 2ms/step - loss: 24322.3867 - val_loss: 9319.5381\n",
            "Epoch 17/20\n",
            "1976/1976 [==============================] - 6s 3ms/step - loss: 24314.3672 - val_loss: 11893.8779\n",
            "Epoch 18/20\n",
            "1976/1976 [==============================] - 5s 3ms/step - loss: 24312.1211 - val_loss: 9784.4922\n",
            "Epoch 19/20\n",
            "1976/1976 [==============================] - 5s 3ms/step - loss: 24285.6406 - val_loss: 11226.2158\n",
            "Epoch 20/20\n",
            "1976/1976 [==============================] - 6s 3ms/step - loss: 24297.6348 - val_loss: 8662.4014\n"
          ]
        },
        {
          "output_type": "execute_result",
          "data": {
            "text/plain": [
              "<keras.callbacks.History at 0x7b0f9773ad10>"
            ]
          },
          "metadata": {},
          "execution_count": 362
        }
      ]
    },
    {
      "cell_type": "code",
      "source": [
        "y_pred=model.predict(test_para)\n",
        "y_test=test_emi"
      ],
      "metadata": {
        "id": "Q3ov_fWuav5P",
        "colab": {
          "base_uri": "https://localhost:8080/"
        },
        "outputId": "b11d8cbd-0580-46b0-81d7-78e87fd62f34"
      },
      "execution_count": null,
      "outputs": [
        {
          "output_type": "stream",
          "name": "stdout",
          "text": [
            "494/494 [==============================] - 1s 1ms/step\n"
          ]
        }
      ]
    },
    {
      "cell_type": "code",
      "source": [
        "len(y_pred),len(y_test)"
      ],
      "metadata": {
        "colab": {
          "base_uri": "https://localhost:8080/"
        },
        "id": "tzQ4w7sd3QFH",
        "outputId": "e56af21c-8b81-42b7-8303-357ff4415c70"
      },
      "execution_count": null,
      "outputs": [
        {
          "output_type": "execute_result",
          "data": {
            "text/plain": [
              "(15805, 15805)"
            ]
          },
          "metadata": {},
          "execution_count": 364
        }
      ]
    },
    {
      "cell_type": "code",
      "source": [
        "import matplotlib.pyplot as plt\n",
        "def plot_time_series(timesteps, values, format='-', start=0, end=None, label=None):\n",
        "  \"\"\"\n",
        "  Plots a timesteps (a series of points in time) against values (a series of values across timesteps).\n",
        "\n",
        "  Parameters\n",
        "  ---------\n",
        "  timesteps : array of timesteps\n",
        "  values : array of values across time\n",
        "  format : style of plot, default \".\"\n",
        "  start : where to start the plot (setting a value will index from start of timesteps & values)\n",
        "  end : where to end the plot (setting a value will index from end of timesteps & values)\n",
        "  label : label to show on plot of values\n",
        "  \"\"\"\n",
        "  # Plot the series\n",
        "  plt.plot(timesteps[start:end], values[start:end], format, label=label)\n",
        "  plt.xlabel(\"Time\")\n",
        "  plt.ylabel(\"BTC Price\")\n",
        "  if label:\n",
        "    plt.legend(fontsize=14) # make label bigger\n",
        "  plt.grid(True)"
      ],
      "metadata": {
        "id": "kYSJekulbDRY"
      },
      "execution_count": null,
      "outputs": []
    },
    {
      "cell_type": "code",
      "source": [
        "date=list(range(0,len(y_test)))"
      ],
      "metadata": {
        "id": "xWRPcYozt3L8"
      },
      "execution_count": null,
      "outputs": []
    },
    {
      "cell_type": "markdown",
      "source": [
        "Plotting graphs to visualize the values"
      ],
      "metadata": {
        "id": "zgaMET9RUW9J"
      }
    },
    {
      "cell_type": "code",
      "source": [],
      "metadata": {
        "id": "hSDGBRQDUUtx"
      },
      "execution_count": null,
      "outputs": []
    },
    {
      "cell_type": "code",
      "source": [
        "plt.figure(figsize=(10, 7))\n",
        "plot_time_series(timesteps=date, values=y_pred,label=\"pred data\",format='.')\n",
        "plot_time_series(timesteps=date, values=y_test,label=\"test data\")\n"
      ],
      "metadata": {
        "id": "pH8aFlTtbGo7",
        "colab": {
          "base_uri": "https://localhost:8080/",
          "height": 619
        },
        "outputId": "14f292f0-4a94-4195-d522-f01e1738b1c5"
      },
      "execution_count": null,
      "outputs": [
        {
          "output_type": "display_data",
          "data": {
            "text/plain": [
              "<Figure size 1000x700 with 1 Axes>"
            ],
            "image/png": "[encoded data removed]"
          },
          "metadata": {}
        }
      ]
    },
    {
      "cell_type": "markdown",
      "source": [
        "# **Creating a better values with using time series concepts**\n",
        "\n",
        "Using window and horizon method with the base model to get the solution\n",
        "adding emission from previous days to predict future emissions\n",
        ". <br> Therefore using previous 5 emission values to predict current values. <br>\n",
        "This is an example of an multi-variate time series problem"
      ],
      "metadata": {
        "id": "Xu12OQYKUhBH"
      }
    },
    {
      "cell_type": "code",
      "source": [
        "df1 = df.copy()\n",
        "for i in range(5):\n",
        "  df1[f\"emission+{i+1}\"] = df1[\"emission\"].shift(periods=i+1)\n",
        "df1.dropna()"
      ],
      "metadata": {
        "colab": {
          "base_uri": "https://localhost:8080/",
          "height": 255
        },
        "id": "xJ0lJ32SEfQ3",
        "outputId": "1908346f-aa83-47b3-cb62-f1de5a5fc194"
      },
      "execution_count": null,
      "outputs": [
        {
          "output_type": "execute_result",
          "data": {
            "text/plain": [
              "   latitude  longitude  year  week_no  \\\n",
              "5     -0.51      29.29  2019        5   \n",
              "6     -0.51      29.29  2019        6   \n",
              "7     -0.51      29.29  2019        7   \n",
              "8     -0.51      29.29  2019        8   \n",
              "9     -0.51      29.29  2019        9   \n",
              "\n",
              "   SulphurDioxide_SO2_column_number_density  \\\n",
              "5                                  0.000294   \n",
              "6                                 -0.000285   \n",
              "7                                 -0.000016   \n",
              "8                                 -0.000115   \n",
              "9                                  0.000056   \n",
              "\n",
              "   SulphurDioxide_SO2_column_number_density_amf  \\\n",
              "5                                      0.871713   \n",
              "6                                      0.791956   \n",
              "7                                      0.976311   \n",
              "8                                      0.796941   \n",
              "9                                      0.998541   \n",
              "\n",
              "   SulphurDioxide_SO2_slant_column_number_density  \\\n",
              "5                                        0.000242   \n",
              "6                                       -0.000226   \n",
              "7                                       -0.000016   \n",
              "8                                       -0.000101   \n",
              "9                                        0.000014   \n",
              "\n",
              "   SulphurDioxide_cloud_fraction  SulphurDioxide_sensor_azimuth_angle  \\\n",
              "5                       0.227656                           -13.453690   \n",
              "6                       0.119397                            72.198647   \n",
              "7                       0.106799                          -100.956055   \n",
              "8                       0.164971                           -40.179074   \n",
              "9                       0.157726                          -100.108744   \n",
              "\n",
              "   SulphurDioxide_sensor_zenith_angle  ...  Cloud_sensor_azimuth_angle  \\\n",
              "5                           57.097124  ...                   30.128401   \n",
              "6                           58.496368  ...                    4.585368   \n",
              "7                           23.739841  ...                   16.374829   \n",
              "8                           31.161560  ...                  -12.021751   \n",
              "9                           33.592015  ...                  -66.258392   \n",
              "\n",
              "   Cloud_sensor_zenith_angle  Cloud_solar_azimuth_angle  \\\n",
              "5                  37.007020                -137.388719   \n",
              "6                  30.491541                -128.196338   \n",
              "7                  35.840248                -122.250699   \n",
              "8                  42.688789                -114.296369   \n",
              "9                  28.596211                -105.687177   \n",
              "\n",
              "   Cloud_solar_zenith_angle  emission  emission+1  emission+2  emission+3  \\\n",
              "5                 21.157820  4.310819    4.347317    4.305286    4.231381   \n",
              "6                 21.721202  4.269334    4.310819    4.347317    4.305286   \n",
              "7                 20.432005  4.251361    4.269334    4.310819    4.347317   \n",
              "8                 22.365602  4.281937    4.251361    4.269334    4.310819   \n",
              "9                 21.084021  4.352933    4.281937    4.251361    4.269334   \n",
              "\n",
              "   emission+4  emission+5  \n",
              "5    4.025176    3.750994  \n",
              "6    4.231381    4.025176  \n",
              "7    4.305286    4.231381  \n",
              "8    4.347317    4.305286  \n",
              "9    4.310819    4.347317  \n",
              "\n",
              "[5 rows x 80 columns]"
            ],
            "text/html": [
              "\n",
              "  <div id=\"df-861f9907-dfb7-42b7-b6f2-5c055c5a9c53\" class=\"colab-df-container\">\n",
              "    <div>\n",
              "<style scoped>\n",
              "    .dataframe tbody tr th:only-of-type {\n",
              "        vertical-align: middle;\n",
              "    }\n",
              "\n",
              "    .dataframe tbody tr th {\n",
              "        vertical-align: top;\n",
              "    }\n",
              "\n",
              "    .dataframe thead th {\n",
              "        text-align: right;\n",
              "    }\n",
              "</style>\n",
              "<table border=\"1\" class=\"dataframe\">\n",
              "  <thead>\n",
              "    <tr style=\"text-align: right;\">\n",
              "      <th></th>\n",
              "      <th>latitude</th>\n",
              "      <th>longitude</th>\n",
              "      <th>year</th>\n",
              "      <th>week_no</th>\n",
              "      <th>SulphurDioxide_SO2_column_number_density</th>\n",
              "      <th>SulphurDioxide_SO2_column_number_density_amf</th>\n",
              "      <th>SulphurDioxide_SO2_slant_column_number_density</th>\n",
              "      <th>SulphurDioxide_cloud_fraction</th>\n",
              "      <th>SulphurDioxide_sensor_azimuth_angle</th>\n",
              "      <th>SulphurDioxide_sensor_zenith_angle</th>\n",
              "      <th>...</th>\n",
              "      <th>Cloud_sensor_azimuth_angle</th>\n",
              "      <th>Cloud_sensor_zenith_angle</th>\n",
              "      <th>Cloud_solar_azimuth_angle</th>\n",
              "      <th>Cloud_solar_zenith_angle</th>\n",
              "      <th>emission</th>\n",
              "      <th>emission+1</th>\n",
              "      <th>emission+2</th>\n",
              "      <th>emission+3</th>\n",
              "      <th>emission+4</th>\n",
              "      <th>emission+5</th>\n",
              "    </tr>\n",
              "  </thead>\n",
              "  <tbody>\n",
              "    <tr>\n",
              "      <th>5</th>\n",
              "      <td>-0.51</td>\n",
              "      <td>29.29</td>\n",
              "      <td>2019</td>\n",
              "      <td>5</td>\n",
              "      <td>0.000294</td>\n",
              "      <td>0.871713</td>\n",
              "      <td>0.000242</td>\n",
              "      <td>0.227656</td>\n",
              "      <td>-13.453690</td>\n",
              "      <td>57.097124</td>\n",
              "      <td>...</td>\n",
              "      <td>30.128401</td>\n",
              "      <td>37.007020</td>\n",
              "      <td>-137.388719</td>\n",
              "      <td>21.157820</td>\n",
              "      <td>4.310819</td>\n",
              "      <td>4.347317</td>\n",
              "      <td>4.305286</td>\n",
              "      <td>4.231381</td>\n",
              "      <td>4.025176</td>\n",
              "      <td>3.750994</td>\n",
              "    </tr>\n",
              "    <tr>\n",
              "      <th>6</th>\n",
              "      <td>-0.51</td>\n",
              "      <td>29.29</td>\n",
              "      <td>2019</td>\n",
              "      <td>6</td>\n",
              "      <td>-0.000285</td>\n",
              "      <td>0.791956</td>\n",
              "      <td>-0.000226</td>\n",
              "      <td>0.119397</td>\n",
              "      <td>72.198647</td>\n",
              "      <td>58.496368</td>\n",
              "      <td>...</td>\n",
              "      <td>4.585368</td>\n",
              "      <td>30.491541</td>\n",
              "      <td>-128.196338</td>\n",
              "      <td>21.721202</td>\n",
              "      <td>4.269334</td>\n",
              "      <td>4.310819</td>\n",
              "      <td>4.347317</td>\n",
              "      <td>4.305286</td>\n",
              "      <td>4.231381</td>\n",
              "      <td>4.025176</td>\n",
              "    </tr>\n",
              "    <tr>\n",
              "      <th>7</th>\n",
              "      <td>-0.51</td>\n",
              "      <td>29.29</td>\n",
              "      <td>2019</td>\n",
              "      <td>7</td>\n",
              "      <td>-0.000016</td>\n",
              "      <td>0.976311</td>\n",
              "      <td>-0.000016</td>\n",
              "      <td>0.106799</td>\n",
              "      <td>-100.956055</td>\n",
              "      <td>23.739841</td>\n",
              "      <td>...</td>\n",
              "      <td>16.374829</td>\n",
              "      <td>35.840248</td>\n",
              "      <td>-122.250699</td>\n",
              "      <td>20.432005</td>\n",
              "      <td>4.251361</td>\n",
              "      <td>4.269334</td>\n",
              "      <td>4.310819</td>\n",
              "      <td>4.347317</td>\n",
              "      <td>4.305286</td>\n",
              "      <td>4.231381</td>\n",
              "    </tr>\n",
              "    <tr>\n",
              "      <th>8</th>\n",
              "      <td>-0.51</td>\n",
              "      <td>29.29</td>\n",
              "      <td>2019</td>\n",
              "      <td>8</td>\n",
              "      <td>-0.000115</td>\n",
              "      <td>0.796941</td>\n",
              "      <td>-0.000101</td>\n",
              "      <td>0.164971</td>\n",
              "      <td>-40.179074</td>\n",
              "      <td>31.161560</td>\n",
              "      <td>...</td>\n",
              "      <td>-12.021751</td>\n",
              "      <td>42.688789</td>\n",
              "      <td>-114.296369</td>\n",
              "      <td>22.365602</td>\n",
              "      <td>4.281937</td>\n",
              "      <td>4.251361</td>\n",
              "      <td>4.269334</td>\n",
              "      <td>4.310819</td>\n",
              "      <td>4.347317</td>\n",
              "      <td>4.305286</td>\n",
              "    </tr>\n",
              "    <tr>\n",
              "      <th>9</th>\n",
              "      <td>-0.51</td>\n",
              "      <td>29.29</td>\n",
              "      <td>2019</td>\n",
              "      <td>9</td>\n",
              "      <td>0.000056</td>\n",
              "      <td>0.998541</td>\n",
              "      <td>0.000014</td>\n",
              "      <td>0.157726</td>\n",
              "      <td>-100.108744</td>\n",
              "      <td>33.592015</td>\n",
              "      <td>...</td>\n",
              "      <td>-66.258392</td>\n",
              "      <td>28.596211</td>\n",
              "      <td>-105.687177</td>\n",
              "      <td>21.084021</td>\n",
              "      <td>4.352933</td>\n",
              "      <td>4.281937</td>\n",
              "      <td>4.251361</td>\n",
              "      <td>4.269334</td>\n",
              "      <td>4.310819</td>\n",
              "      <td>4.347317</td>\n",
              "    </tr>\n",
              "  </tbody>\n",
              "</table>\n",
              "<p>5 rows × 80 columns</p>\n",
              "</div>\n",
              "    <div class=\"colab-df-buttons\">\n",
              "\n",
              "  <div class=\"colab-df-container\">\n",
              "    <button class=\"colab-df-convert\" onclick=\"convertToInteractive('df-861f9907-dfb7-42b7-b6f2-5c055c5a9c53')\"\n",
              "            title=\"Convert this dataframe to an interactive table.\"\n",
              "            style=\"display:none;\">\n",
              "\n",
              "  <svg xmlns=\"http://www.w3.org/2000/svg\" height=\"24px\" viewBox=\"0 -960 960 960\">\n",
              "    <path d=\"M120-120v-720h720v720H120Zm60-500h600v-160H180v160Zm220 220h160v-160H400v160Zm0 220h160v-160H400v160ZM180-400h160v-160H180v160Zm440 0h160v-160H620v160ZM180-180h160v-160H180v160Zm440 0h160v-160H620v160Z\"/>\n",
              "  </svg>\n",
              "    </button>\n",
              "\n",
              "  <style>\n",
              "    .colab-df-container {\n",
              "      display:flex;\n",
              "      gap: 12px;\n",
              "    }\n",
              "\n",
              "    .colab-df-convert {\n",
              "      background-color: #E8F0FE;\n",
              "      border: none;\n",
              "      border-radius: 50%;\n",
              "      cursor: pointer;\n",
              "      display: none;\n",
              "      fill: #1967D2;\n",
              "      height: 32px;\n",
              "      padding: 0 0 0 0;\n",
              "      width: 32px;\n",
              "    }\n",
              "\n",
              "    .colab-df-convert:hover {\n",
              "      background-color: #E2EBFA;\n",
              "      box-shadow: 0px 1px 2px rgba(60, 64, 67, 0.3), 0px 1px 3px 1px rgba(60, 64, 67, 0.15);\n",
              "      fill: #174EA6;\n",
              "    }\n",
              "\n",
              "    .colab-df-buttons div {\n",
              "      margin-bottom: 4px;\n",
              "    }\n",
              "\n",
              "    [theme=dark] .colab-df-convert {\n",
              "      background-color: #3B4455;\n",
              "      fill: #D2E3FC;\n",
              "    }\n",
              "\n",
              "    [theme=dark] .colab-df-convert:hover {\n",
              "      background-color: #434B5C;\n",
              "      box-shadow: 0px 1px 3px 1px rgba(0, 0, 0, 0.15);\n",
              "      filter: drop-shadow(0px 1px 2px rgba(0, 0, 0, 0.3));\n",
              "      fill: #FFFFFF;\n",
              "    }\n",
              "  </style>\n",
              "\n",
              "    <script>\n",
              "      const buttonEl =\n",
              "        document.querySelector('#df-861f9907-dfb7-42b7-b6f2-5c055c5a9c53 button.colab-df-convert');\n",
              "      buttonEl.style.display =\n",
              "        google.colab.kernel.accessAllowed ? 'block' : 'none';\n",
              "\n",
              "      async function convertToInteractive(key) {\n",
              "        const element = document.querySelector('#df-861f9907-dfb7-42b7-b6f2-5c055c5a9c53');\n",
              "        const dataTable =\n",
              "          await google.colab.kernel.invokeFunction('convertToInteractive',\n",
              "                                                    [key], {});\n",
              "        if (!dataTable) return;\n",
              "\n",
              "        const docLinkHtml = 'Like what you see? Visit the ' +\n",
              "          '<a target=\"_blank\" href=https://colab.research.google.com/notebooks/data_table.ipynb>data table notebook</a>'\n",
              "          + ' to learn more about interactive tables.';\n",
              "        element.innerHTML = '';\n",
              "        dataTable['output_type'] = 'display_data';\n",
              "        await google.colab.output.renderOutput(dataTable, element);\n",
              "        const docLink = document.createElement('div');\n",
              "        docLink.innerHTML = docLinkHtml;\n",
              "        element.appendChild(docLink);\n",
              "      }\n",
              "    </script>\n",
              "  </div>\n",
              "\n",
              "\n",
              "<div id=\"df-cc52b46a-96d2-4019-ad50-feccf97f2d7f\">\n",
              "  <button class=\"colab-df-quickchart\" onclick=\"quickchart('df-cc52b46a-96d2-4019-ad50-feccf97f2d7f')\"\n",
              "            title=\"Suggest charts.\"\n",
              "            style=\"display:none;\">\n",
              "\n",
              "<svg xmlns=\"http://www.w3.org/2000/svg\" height=\"24px\"viewBox=\"0 0 24 24\"\n",
              "     width=\"24px\">\n",
              "    <g>\n",
              "        <path d=\"M19 3H5c-1.1 0-2 .9-2 2v14c0 1.1.9 2 2 2h14c1.1 0 2-.9 2-2V5c0-1.1-.9-2-2-2zM9 17H7v-7h2v7zm4 0h-2V7h2v10zm4 0h-2v-4h2v4z\"/>\n",
              "    </g>\n",
              "</svg>\n",
              "  </button>\n",
              "\n",
              "<style>\n",
              "  .colab-df-quickchart {\n",
              "      --bg-color: #E8F0FE;\n",
              "      --fill-color: #1967D2;\n",
              "      --hover-bg-color: #E2EBFA;\n",
              "      --hover-fill-color: #174EA6;\n",
              "      --disabled-fill-color: #AAA;\n",
              "      --disabled-bg-color: #DDD;\n",
              "  }\n",
              "\n",
              "  [theme=dark] .colab-df-quickchart {\n",
              "      --bg-color: #3B4455;\n",
              "      --fill-color: #D2E3FC;\n",
              "      --hover-bg-color: #434B5C;\n",
              "      --hover-fill-color: #FFFFFF;\n",
              "      --disabled-bg-color: #3B4455;\n",
              "      --disabled-fill-color: #666;\n",
              "  }\n",
              "\n",
              "  .colab-df-quickchart {\n",
              "    background-color: var(--bg-color);\n",
              "    border: none;\n",
              "    border-radius: 50%;\n",
              "    cursor: pointer;\n",
              "    display: none;\n",
              "    fill: var(--fill-color);\n",
              "    height: 32px;\n",
              "    padding: 0;\n",
              "    width: 32px;\n",
              "  }\n",
              "\n",
              "  .colab-df-quickchart:hover {\n",
              "    background-color: var(--hover-bg-color);\n",
              "    box-shadow: 0 1px 2px rgba(60, 64, 67, 0.3), 0 1px 3px 1px rgba(60, 64, 67, 0.15);\n",
              "    fill: var(--button-hover-fill-color);\n",
              "  }\n",
              "\n",
              "  .colab-df-quickchart-complete:disabled,\n",
              "  .colab-df-quickchart-complete:disabled:hover {\n",
              "    background-color: var(--disabled-bg-color);\n",
              "    fill: var(--disabled-fill-color);\n",
              "    box-shadow: none;\n",
              "  }\n",
              "\n",
              "  .colab-df-spinner {\n",
              "    border: 2px solid var(--fill-color);\n",
              "    border-color: transparent;\n",
              "    border-bottom-color: var(--fill-color);\n",
              "    animation:\n",
              "      spin 1s steps(1) infinite;\n",
              "  }\n",
              "\n",
              "  @keyframes spin {\n",
              "    0% {\n",
              "      border-color: transparent;\n",
              "      border-bottom-color: var(--fill-color);\n",
              "      border-left-color: var(--fill-color);\n",
              "    }\n",
              "    20% {\n",
              "      border-color: transparent;\n",
              "      border-left-color: var(--fill-color);\n",
              "      border-top-color: var(--fill-color);\n",
              "    }\n",
              "    30% {\n",
              "      border-color: transparent;\n",
              "      border-left-color: var(--fill-color);\n",
              "      border-top-color: var(--fill-color);\n",
              "      border-right-color: var(--fill-color);\n",
              "    }\n",
              "    40% {\n",
              "      border-color: transparent;\n",
              "      border-right-color: var(--fill-color);\n",
              "      border-top-color: var(--fill-color);\n",
              "    }\n",
              "    60% {\n",
              "      border-color: transparent;\n",
              "      border-right-color: var(--fill-color);\n",
              "    }\n",
              "    80% {\n",
              "      border-color: transparent;\n",
              "      border-right-color: var(--fill-color);\n",
              "      border-bottom-color: var(--fill-color);\n",
              "    }\n",
              "    90% {\n",
              "      border-color: transparent;\n",
              "      border-bottom-color: var(--fill-color);\n",
              "    }\n",
              "  }\n",
              "</style>\n",
              "\n",
              "  <script>\n",
              "    async function quickchart(key) {\n",
              "      const quickchartButtonEl =\n",
              "        document.querySelector('#' + key + ' button');\n",
              "      quickchartButtonEl.disabled = true;  // To prevent multiple clicks.\n",
              "      quickchartButtonEl.classList.add('colab-df-spinner');\n",
              "      try {\n",
              "        const charts = await google.colab.kernel.invokeFunction(\n",
              "            'suggestCharts', [key], {});\n",
              "      } catch (error) {\n",
              "        console.error('Error during call to suggestCharts:', error);\n",
              "      }\n",
              "      quickchartButtonEl.classList.remove('colab-df-spinner');\n",
              "      quickchartButtonEl.classList.add('colab-df-quickchart-complete');\n",
              "    }\n",
              "    (() => {\n",
              "      let quickchartButtonEl =\n",
              "        document.querySelector('#df-cc52b46a-96d2-4019-ad50-feccf97f2d7f button');\n",
              "      quickchartButtonEl.style.display =\n",
              "        google.colab.kernel.accessAllowed ? 'block' : 'none';\n",
              "    })();\n",
              "  </script>\n",
              "</div>\n",
              "    </div>\n",
              "  </div>\n"
            ]
          },
          "metadata": {},
          "execution_count": 228
        }
      ]
    },
    {
      "cell_type": "code",
      "source": [
        "df1=df1.dropna()\n",
        "df1.isnull().sum()"
      ],
      "metadata": {
        "colab": {
          "base_uri": "https://localhost:8080/"
        },
        "id": "OCJBnroWGxIE",
        "outputId": "afbf608c-852c-485f-b5cf-a1bdd2d66048"
      },
      "execution_count": null,
      "outputs": [
        {
          "output_type": "execute_result",
          "data": {
            "text/plain": [
              "latitude                                    0\n",
              "longitude                                   0\n",
              "year                                        0\n",
              "week_no                                     0\n",
              "SulphurDioxide_SO2_column_number_density    0\n",
              "                                           ..\n",
              "emission+1                                  0\n",
              "emission+2                                  0\n",
              "emission+3                                  0\n",
              "emission+4                                  0\n",
              "emission+5                                  0\n",
              "Length: 80, dtype: int64"
            ]
          },
          "metadata": {},
          "execution_count": 248
        }
      ]
    },
    {
      "cell_type": "code",
      "source": [
        "\n",
        "\n",
        "X=df1.drop(['latitude', 'longitude', 'year', 'week_no','emission'],axis=1)\n",
        "n_col=X.columns\n",
        "\n",
        "#df=df.dropna()\n",
        "n_col"
      ],
      "metadata": {
        "colab": {
          "base_uri": "https://localhost:8080/"
        },
        "id": "w1aYZ6nPubV0",
        "outputId": "e2803ce9-7e14-417e-88cf-98e17045bbe4"
      },
      "execution_count": null,
      "outputs": [
        {
          "output_type": "execute_result",
          "data": {
            "text/plain": [
              "Index(['SulphurDioxide_SO2_column_number_density',\n",
              "       'SulphurDioxide_SO2_column_number_density_amf',\n",
              "       'SulphurDioxide_SO2_slant_column_number_density',\n",
              "       'SulphurDioxide_cloud_fraction', 'SulphurDioxide_sensor_azimuth_angle',\n",
              "       'SulphurDioxide_sensor_zenith_angle',\n",
              "       'SulphurDioxide_solar_azimuth_angle',\n",
              "       'SulphurDioxide_solar_zenith_angle',\n",
              "       'SulphurDioxide_SO2_column_number_density_15km',\n",
              "       'CarbonMonoxide_CO_column_number_density',\n",
              "       'CarbonMonoxide_H2O_column_number_density',\n",
              "       'CarbonMonoxide_cloud_height', 'CarbonMonoxide_sensor_altitude',\n",
              "       'CarbonMonoxide_sensor_azimuth_angle',\n",
              "       'CarbonMonoxide_sensor_zenith_angle',\n",
              "       'CarbonMonoxide_solar_azimuth_angle',\n",
              "       'CarbonMonoxide_solar_zenith_angle',\n",
              "       'NitrogenDioxide_NO2_column_number_density',\n",
              "       'NitrogenDioxide_tropospheric_NO2_column_number_density',\n",
              "       'NitrogenDioxide_stratospheric_NO2_column_number_density',\n",
              "       'NitrogenDioxide_NO2_slant_column_number_density',\n",
              "       'NitrogenDioxide_tropopause_pressure',\n",
              "       'NitrogenDioxide_absorbing_aerosol_index',\n",
              "       'NitrogenDioxide_cloud_fraction', 'NitrogenDioxide_sensor_altitude',\n",
              "       'NitrogenDioxide_sensor_azimuth_angle',\n",
              "       'NitrogenDioxide_sensor_zenith_angle',\n",
              "       'NitrogenDioxide_solar_azimuth_angle',\n",
              "       'NitrogenDioxide_solar_zenith_angle',\n",
              "       'Formaldehyde_tropospheric_HCHO_column_number_density',\n",
              "       'Formaldehyde_tropospheric_HCHO_column_number_density_amf',\n",
              "       'Formaldehyde_HCHO_slant_column_number_density',\n",
              "       'Formaldehyde_cloud_fraction', 'Formaldehyde_solar_zenith_angle',\n",
              "       'Formaldehyde_solar_azimuth_angle', 'Formaldehyde_sensor_zenith_angle',\n",
              "       'Formaldehyde_sensor_azimuth_angle',\n",
              "       'UvAerosolIndex_absorbing_aerosol_index',\n",
              "       'UvAerosolIndex_sensor_altitude', 'UvAerosolIndex_sensor_azimuth_angle',\n",
              "       'UvAerosolIndex_sensor_zenith_angle',\n",
              "       'UvAerosolIndex_solar_azimuth_angle',\n",
              "       'UvAerosolIndex_solar_zenith_angle', 'Ozone_O3_column_number_density',\n",
              "       'Ozone_O3_column_number_density_amf',\n",
              "       'Ozone_O3_slant_column_number_density',\n",
              "       'Ozone_O3_effective_temperature', 'Ozone_cloud_fraction',\n",
              "       'Ozone_sensor_azimuth_angle', 'Ozone_sensor_zenith_angle',\n",
              "       'Ozone_solar_azimuth_angle', 'Ozone_solar_zenith_angle',\n",
              "       'UvAerosolLayerHeight_aerosol_height',\n",
              "       'UvAerosolLayerHeight_aerosol_pressure',\n",
              "       'UvAerosolLayerHeight_aerosol_optical_depth',\n",
              "       'UvAerosolLayerHeight_sensor_zenith_angle',\n",
              "       'UvAerosolLayerHeight_sensor_azimuth_angle',\n",
              "       'UvAerosolLayerHeight_solar_azimuth_angle',\n",
              "       'UvAerosolLayerHeight_solar_zenith_angle', 'Cloud_cloud_fraction',\n",
              "       'Cloud_cloud_top_pressure', 'Cloud_cloud_top_height',\n",
              "       'Cloud_cloud_base_pressure', 'Cloud_cloud_base_height',\n",
              "       'Cloud_cloud_optical_depth', 'Cloud_surface_albedo',\n",
              "       'Cloud_sensor_azimuth_angle', 'Cloud_sensor_zenith_angle',\n",
              "       'Cloud_solar_azimuth_angle', 'Cloud_solar_zenith_angle', 'emission+1',\n",
              "       'emission+2', 'emission+3', 'emission+4', 'emission+5'],\n",
              "      dtype='object')"
            ]
          },
          "metadata": {},
          "execution_count": 249
        }
      ]
    },
    {
      "cell_type": "code",
      "source": [
        "\n",
        "X=X.to_numpy()\n",
        "X=np.float32(X)\n",
        "\n",
        "len(X)\n",
        "\n",
        "y=df1[\"emission\"]\n",
        "\n",
        "from sklearn.preprocessing import MinMaxScaler\n",
        "scaler1 = MinMaxScaler()\n",
        "scaler1.fit(X)\n",
        "X=scaler1.transform(X)\n",
        "\n",
        "type(y)\n"
      ],
      "metadata": {
        "colab": {
          "base_uri": "https://localhost:8080/"
        },
        "id": "zcn_EorXBbKx",
        "outputId": "f309a156-b01f-4bd0-9c2b-17d09ddee900"
      },
      "execution_count": null,
      "outputs": [
        {
          "output_type": "execute_result",
          "data": {
            "text/plain": [
              "pandas.core.series.Series"
            ]
          },
          "metadata": {},
          "execution_count": 250
        }
      ]
    },
    {
      "cell_type": "code",
      "source": [
        "import numpy as np\n",
        "\n",
        "y=y.to_numpy()\n",
        "y=np.float32(y)\n",
        "\n",
        "len(X),len(y)\n",
        "\n"
      ],
      "metadata": {
        "colab": {
          "base_uri": "https://localhost:8080/"
        },
        "id": "I-MUXFMLGgDS",
        "outputId": "c20b25d2-850d-441d-ba98-3e0e6fa1201d"
      },
      "execution_count": null,
      "outputs": [
        {
          "output_type": "execute_result",
          "data": {
            "text/plain": [
              "(79018, 79018)"
            ]
          },
          "metadata": {},
          "execution_count": 251
        }
      ]
    },
    {
      "cell_type": "code",
      "source": [
        "\n",
        "train_para,test_para,train_emi,test_emi=make_train_test_splits(X,y, test_split=0.2)\n"
      ],
      "metadata": {
        "id": "jY4PR1F1GhBD"
      },
      "execution_count": null,
      "outputs": []
    },
    {
      "cell_type": "code",
      "source": [
        "input=layers.Input(shape=(75,))\n",
        "x=layers.Dense(64, activation=\"relu\")(input)\n",
        "\n",
        "x=layers.Dense(64, activation=\"relu\")(x)\n",
        "outputs=layers.Dense(1)(x)\n",
        "\n",
        "\n",
        "model = tf.keras.Model(inputs=input, outputs=outputs)\n",
        "model.compile(loss=tf.keras.losses.MeanSquaredError(),\n",
        "              optimizer=tf.keras.optimizers.Adam())"
      ],
      "metadata": {
        "id": "Iw3jLXtXBcsG"
      },
      "execution_count": null,
      "outputs": []
    },
    {
      "cell_type": "code",
      "source": [
        "model.fit(train_para,train_emi,epochs=20,validation_data=(test_para,test_emi))"
      ],
      "metadata": {
        "colab": {
          "base_uri": "https://localhost:8080/"
        },
        "outputId": "4b8b4804-eeb9-4f93-ba67-3156c2c71ad1",
        "id": "2CWvBaxTBlF7"
      },
      "execution_count": null,
      "outputs": [
        {
          "output_type": "stream",
          "name": "stdout",
          "text": [
            "Epoch 1/20\n",
            "1976/1976 [==============================] - 6s 3ms/step - loss: 16513.7891 - val_loss: 772.8309\n",
            "Epoch 2/20\n",
            "1976/1976 [==============================] - 6s 3ms/step - loss: 2317.3967 - val_loss: 211.3954\n",
            "Epoch 3/20\n",
            "1976/1976 [==============================] - 5s 3ms/step - loss: 2127.7664 - val_loss: 172.4002\n",
            "Epoch 4/20\n",
            "1976/1976 [==============================] - 5s 2ms/step - loss: 2005.2256 - val_loss: 220.9930\n",
            "Epoch 5/20\n",
            "1976/1976 [==============================] - 6s 3ms/step - loss: 1889.8960 - val_loss: 213.5892\n",
            "Epoch 6/20\n",
            "1976/1976 [==============================] - 5s 3ms/step - loss: 1801.6296 - val_loss: 160.8914\n",
            "Epoch 7/20\n",
            "1976/1976 [==============================] - 6s 3ms/step - loss: 1699.2247 - val_loss: 191.0647\n",
            "Epoch 8/20\n",
            "1976/1976 [==============================] - 5s 2ms/step - loss: 1619.7523 - val_loss: 146.7742\n",
            "Epoch 9/20\n",
            "1976/1976 [==============================] - 6s 3ms/step - loss: 1538.5093 - val_loss: 164.2558\n",
            "Epoch 10/20\n",
            "1976/1976 [==============================] - 5s 3ms/step - loss: 1482.9044 - val_loss: 214.5892\n",
            "Epoch 11/20\n",
            "1976/1976 [==============================] - 5s 3ms/step - loss: 1405.1564 - val_loss: 141.7143\n",
            "Epoch 12/20\n",
            "1976/1976 [==============================] - 6s 3ms/step - loss: 1363.5393 - val_loss: 154.6920\n",
            "Epoch 13/20\n",
            "1976/1976 [==============================] - 5s 2ms/step - loss: 1335.5726 - val_loss: 119.9266\n",
            "Epoch 14/20\n",
            "1976/1976 [==============================] - 5s 3ms/step - loss: 1289.6810 - val_loss: 110.0024\n",
            "Epoch 15/20\n",
            "1976/1976 [==============================] - 5s 3ms/step - loss: 1283.2255 - val_loss: 174.4174\n",
            "Epoch 16/20\n",
            "1976/1976 [==============================] - 5s 2ms/step - loss: 1242.1122 - val_loss: 110.9921\n",
            "Epoch 17/20\n",
            "1976/1976 [==============================] - 6s 3ms/step - loss: 1233.2148 - val_loss: 128.1615\n",
            "Epoch 18/20\n",
            "1976/1976 [==============================] - 5s 2ms/step - loss: 1211.9806 - val_loss: 112.0223\n",
            "Epoch 19/20\n",
            "1976/1976 [==============================] - 5s 3ms/step - loss: 1209.6912 - val_loss: 145.1949\n",
            "Epoch 20/20\n",
            "1976/1976 [==============================] - 5s 3ms/step - loss: 1188.9141 - val_loss: 130.9205\n"
          ]
        },
        {
          "output_type": "execute_result",
          "data": {
            "text/plain": [
              "<keras.callbacks.History at 0x7b0fb92b75b0>"
            ]
          },
          "metadata": {},
          "execution_count": 254
        }
      ]
    },
    {
      "cell_type": "code",
      "source": [
        "y_pred=model.predict(test_para)\n",
        "y_test=test_emi"
      ],
      "metadata": {
        "colab": {
          "base_uri": "https://localhost:8080/"
        },
        "outputId": "7809fa63-b007-415e-8b8e-03698e69999e",
        "id": "A5PDDvOcBoP_"
      },
      "execution_count": null,
      "outputs": [
        {
          "output_type": "stream",
          "name": "stdout",
          "text": [
            "494/494 [==============================] - 1s 2ms/step\n"
          ]
        }
      ]
    },
    {
      "cell_type": "code",
      "source": [
        "date=list(range(0,len(y_test)))"
      ],
      "metadata": {
        "id": "o1N0udCTBr3p"
      },
      "execution_count": null,
      "outputs": []
    },
    {
      "cell_type": "code",
      "source": [
        "len(y_pred),len(y_test)"
      ],
      "metadata": {
        "colab": {
          "base_uri": "https://localhost:8080/"
        },
        "id": "VWvRkcHTC22g",
        "outputId": "dcf1d686-5088-4606-bb92-21c98dabe04e"
      },
      "execution_count": null,
      "outputs": [
        {
          "output_type": "execute_result",
          "data": {
            "text/plain": [
              "(15804, 15804)"
            ]
          },
          "metadata": {},
          "execution_count": 257
        }
      ]
    },
    {
      "cell_type": "code",
      "source": [
        "plt.figure(figsize=(20, 7))\n",
        "plot_time_series(timesteps=date, values=y_pred,label=\"pred data\",format='.')\n",
        "plot_time_series(timesteps=date, values=y_test,label=\"test data\")\n"
      ],
      "metadata": {
        "colab": {
          "base_uri": "https://localhost:8080/",
          "height": 429
        },
        "outputId": "6c9a91bc-f086-4e5f-9a15-5a33af46c2e8",
        "id": "raYWNXLpBt_E"
      },
      "execution_count": null,
      "outputs": [
        {
          "output_type": "display_data",
          "data": {
            "text/plain": [
              "<Figure size 2000x700 with 1 Axes>"
            ],
            "image/png": "[encoded data removed]"
          },
          "metadata": {}
        }
      ]
    },
    {
      "cell_type": "markdown",
      "source": [
        "# **submititng predicted values from base model not the multivariate model**\n",
        "\n",
        "test submission code"
      ],
      "metadata": {
        "id": "IFUAPpFTWJUg"
      }
    },
    {
      "cell_type": "code",
      "source": [
        "test_df=pd.read_csv(\"/content/playground-series-s3e20/test.csv\")"
      ],
      "metadata": {
        "id": "eMUVKjWfB7Ma"
      },
      "execution_count": null,
      "outputs": []
    },
    {
      "cell_type": "code",
      "source": [
        "date_column=test_df[\"ID_LAT_LON_YEAR_WEEK\"]"
      ],
      "metadata": {
        "id": "JAVL5psRKlec"
      },
      "execution_count": null,
      "outputs": []
    },
    {
      "cell_type": "code",
      "source": [],
      "metadata": {
        "id": "BWmc-R7zS8Z6"
      },
      "execution_count": null,
      "outputs": []
    },
    {
      "cell_type": "code",
      "source": [
        "\n",
        "mean=test_df.drop(['ID_LAT_LON_YEAR_WEEK','latitude', 'longitude', 'year', 'week_no'],axis=1).mean()\n",
        "\n",
        "mean\n",
        "\n",
        "test_df.fillna(mean,inplace=True)\n"
      ],
      "metadata": {
        "id": "Ei2KX_ThSxmC"
      },
      "execution_count": null,
      "outputs": []
    },
    {
      "cell_type": "code",
      "source": [
        "test_df.isnull().sum()"
      ],
      "metadata": {
        "colab": {
          "base_uri": "https://localhost:8080/"
        },
        "id": "078iaemqTJH_",
        "outputId": "ade938a9-d360-41b0-a7ae-96dd2bad20f8"
      },
      "execution_count": null,
      "outputs": [
        {
          "output_type": "execute_result",
          "data": {
            "text/plain": [
              "ID_LAT_LON_YEAR_WEEK          0\n",
              "latitude                      0\n",
              "longitude                     0\n",
              "year                          0\n",
              "week_no                       0\n",
              "                             ..\n",
              "Cloud_surface_albedo          0\n",
              "Cloud_sensor_azimuth_angle    0\n",
              "Cloud_sensor_zenith_angle     0\n",
              "Cloud_solar_azimuth_angle     0\n",
              "Cloud_solar_zenith_angle      0\n",
              "Length: 75, dtype: int64"
            ]
          },
          "metadata": {},
          "execution_count": 321
        }
      ]
    },
    {
      "cell_type": "code",
      "source": [
        "len(test_df)"
      ],
      "metadata": {
        "colab": {
          "base_uri": "https://localhost:8080/"
        },
        "id": "sQVmtTX4K0Xc",
        "outputId": "316b694a-f792-4def-8a1b-6beafae48d5c"
      },
      "execution_count": null,
      "outputs": [
        {
          "output_type": "execute_result",
          "data": {
            "text/plain": [
              "24353"
            ]
          },
          "metadata": {},
          "execution_count": 322
        }
      ]
    },
    {
      "cell_type": "code",
      "source": [
        "X=test_df.drop(['ID_LAT_LON_YEAR_WEEK','latitude', 'longitude', 'year', 'week_no'],axis=1)"
      ],
      "metadata": {
        "id": "QeG5RYwzLB8-"
      },
      "execution_count": null,
      "outputs": []
    },
    {
      "cell_type": "code",
      "source": [
        "len(X)"
      ],
      "metadata": {
        "colab": {
          "base_uri": "https://localhost:8080/"
        },
        "id": "VxNLTW2VRjiG",
        "outputId": "549fac6d-c067-4a62-8411-9cdf58aa13f3"
      },
      "execution_count": null,
      "outputs": [
        {
          "output_type": "execute_result",
          "data": {
            "text/plain": [
              "24353"
            ]
          },
          "metadata": {},
          "execution_count": 324
        }
      ]
    },
    {
      "cell_type": "code",
      "source": [
        "\n",
        "X=X.to_numpy()\n",
        "X=np.float32(X)\n",
        "X=scaler.transform(X)"
      ],
      "metadata": {
        "id": "L9wTFNvTRv51"
      },
      "execution_count": null,
      "outputs": []
    },
    {
      "cell_type": "code",
      "source": [
        "y=model1.predict(X)"
      ],
      "metadata": {
        "colab": {
          "base_uri": "https://localhost:8080/"
        },
        "id": "3VHDAJByNWVv",
        "outputId": "3c772042-03f9-4a82-d8df-48c3c3b58969"
      },
      "execution_count": null,
      "outputs": [
        {
          "output_type": "stream",
          "name": "stdout",
          "text": [
            "762/762 [==============================] - 2s 2ms/step\n"
          ]
        }
      ]
    },
    {
      "cell_type": "code",
      "source": [
        "y"
      ],
      "metadata": {
        "colab": {
          "base_uri": "https://localhost:8080/"
        },
        "id": "ndiBo_LvSEzO",
        "outputId": "77136d8d-3947-43a7-9a96-fae519e2bfce"
      },
      "execution_count": null,
      "outputs": [
        {
          "output_type": "execute_result",
          "data": {
            "text/plain": [
              "array([[ 42.214314],\n",
              "       [ 38.547745],\n",
              "       [ 12.579323],\n",
              "       ...,\n",
              "       [137.54446 ],\n",
              "       [141.08768 ],\n",
              "       [141.2262  ]], dtype=float32)"
            ]
          },
          "metadata": {},
          "execution_count": 327
        }
      ]
    },
    {
      "cell_type": "code",
      "source": [
        "pred = pd.DataFrame(y)"
      ],
      "metadata": {
        "id": "H44tPiKGNdsf"
      },
      "execution_count": null,
      "outputs": []
    },
    {
      "cell_type": "code",
      "source": [
        "submission = pd.DataFrame({'ID_LAT_LON_YEAR_WEEK': date_column, 'emission': pred[0]})"
      ],
      "metadata": {
        "id": "r-wiApO9NxGy"
      },
      "execution_count": null,
      "outputs": []
    },
    {
      "cell_type": "code",
      "source": [
        "submission"
      ],
      "metadata": {
        "colab": {
          "base_uri": "https://localhost:8080/",
          "height": 423
        },
        "id": "-nEzAbbHXPkE",
        "outputId": "3ebb2f19-cb65-416a-8f56-9c468c067b39"
      },
      "execution_count": null,
      "outputs": [
        {
          "output_type": "execute_result",
          "data": {
            "text/plain": [
              "           ID_LAT_LON_YEAR_WEEK    emission\n",
              "0      ID_-0.510_29.290_2022_00   42.214314\n",
              "1      ID_-0.510_29.290_2022_01   38.547745\n",
              "2      ID_-0.510_29.290_2022_02   12.579323\n",
              "3      ID_-0.510_29.290_2022_03   45.961254\n",
              "4      ID_-0.510_29.290_2022_04   63.068829\n",
              "...                         ...         ...\n",
              "24348  ID_-3.299_30.301_2022_44  100.554749\n",
              "24349  ID_-3.299_30.301_2022_45  132.580215\n",
              "24350  ID_-3.299_30.301_2022_46  137.544464\n",
              "24351  ID_-3.299_30.301_2022_47  141.087677\n",
              "24352  ID_-3.299_30.301_2022_48  141.226196\n",
              "\n",
              "[24353 rows x 2 columns]"
            ],
            "text/html": [
              "\n",
              "  <div id=\"df-98844b87-1d92-475b-b234-c8ad455d4544\" class=\"colab-df-container\">\n",
              "    <div>\n",
              "<style scoped>\n",
              "    .dataframe tbody tr th:only-of-type {\n",
              "        vertical-align: middle;\n",
              "    }\n",
              "\n",
              "    .dataframe tbody tr th {\n",
              "        vertical-align: top;\n",
              "    }\n",
              "\n",
              "    .dataframe thead th {\n",
              "        text-align: right;\n",
              "    }\n",
              "</style>\n",
              "<table border=\"1\" class=\"dataframe\">\n",
              "  <thead>\n",
              "    <tr style=\"text-align: right;\">\n",
              "      <th></th>\n",
              "      <th>ID_LAT_LON_YEAR_WEEK</th>\n",
              "      <th>emission</th>\n",
              "    </tr>\n",
              "  </thead>\n",
              "  <tbody>\n",
              "    <tr>\n",
              "      <th>0</th>\n",
              "      <td>ID_-0.510_29.290_2022_00</td>\n",
              "      <td>42.214314</td>\n",
              "    </tr>\n",
              "    <tr>\n",
              "      <th>1</th>\n",
              "      <td>ID_-0.510_29.290_2022_01</td>\n",
              "      <td>38.547745</td>\n",
              "    </tr>\n",
              "    <tr>\n",
              "      <th>2</th>\n",
              "      <td>ID_-0.510_29.290_2022_02</td>\n",
              "      <td>12.579323</td>\n",
              "    </tr>\n",
              "    <tr>\n",
              "      <th>3</th>\n",
              "      <td>ID_-0.510_29.290_2022_03</td>\n",
              "      <td>45.961254</td>\n",
              "    </tr>\n",
              "    <tr>\n",
              "      <th>4</th>\n",
              "      <td>ID_-0.510_29.290_2022_04</td>\n",
              "      <td>63.068829</td>\n",
              "    </tr>\n",
              "    <tr>\n",
              "      <th>...</th>\n",
              "      <td>...</td>\n",
              "      <td>...</td>\n",
              "    </tr>\n",
              "    <tr>\n",
              "      <th>24348</th>\n",
              "      <td>ID_-3.299_30.301_2022_44</td>\n",
              "      <td>100.554749</td>\n",
              "    </tr>\n",
              "    <tr>\n",
              "      <th>24349</th>\n",
              "      <td>ID_-3.299_30.301_2022_45</td>\n",
              "      <td>132.580215</td>\n",
              "    </tr>\n",
              "    <tr>\n",
              "      <th>24350</th>\n",
              "      <td>ID_-3.299_30.301_2022_46</td>\n",
              "      <td>137.544464</td>\n",
              "    </tr>\n",
              "    <tr>\n",
              "      <th>24351</th>\n",
              "      <td>ID_-3.299_30.301_2022_47</td>\n",
              "      <td>141.087677</td>\n",
              "    </tr>\n",
              "    <tr>\n",
              "      <th>24352</th>\n",
              "      <td>ID_-3.299_30.301_2022_48</td>\n",
              "      <td>141.226196</td>\n",
              "    </tr>\n",
              "  </tbody>\n",
              "</table>\n",
              "<p>24353 rows × 2 columns</p>\n",
              "</div>\n",
              "    <div class=\"colab-df-buttons\">\n",
              "\n",
              "  <div class=\"colab-df-container\">\n",
              "    <button class=\"colab-df-convert\" onclick=\"convertToInteractive('df-98844b87-1d92-475b-b234-c8ad455d4544')\"\n",
              "            title=\"Convert this dataframe to an interactive table.\"\n",
              "            style=\"display:none;\">\n",
              "\n",
              "  <svg xmlns=\"http://www.w3.org/2000/svg\" height=\"24px\" viewBox=\"0 -960 960 960\">\n",
              "    <path d=\"M120-120v-720h720v720H120Zm60-500h600v-160H180v160Zm220 220h160v-160H400v160Zm0 220h160v-160H400v160ZM180-400h160v-160H180v160Zm440 0h160v-160H620v160ZM180-180h160v-160H180v160Zm440 0h160v-160H620v160Z\"/>\n",
              "  </svg>\n",
              "    </button>\n",
              "\n",
              "  <style>\n",
              "    .colab-df-container {\n",
              "      display:flex;\n",
              "      gap: 12px;\n",
              "    }\n",
              "\n",
              "    .colab-df-convert {\n",
              "      background-color: #E8F0FE;\n",
              "      border: none;\n",
              "      border-radius: 50%;\n",
              "      cursor: pointer;\n",
              "      display: none;\n",
              "      fill: #1967D2;\n",
              "      height: 32px;\n",
              "      padding: 0 0 0 0;\n",
              "      width: 32px;\n",
              "    }\n",
              "\n",
              "    .colab-df-convert:hover {\n",
              "      background-color: #E2EBFA;\n",
              "      box-shadow: 0px 1px 2px rgba(60, 64, 67, 0.3), 0px 1px 3px 1px rgba(60, 64, 67, 0.15);\n",
              "      fill: #174EA6;\n",
              "    }\n",
              "\n",
              "    .colab-df-buttons div {\n",
              "      margin-bottom: 4px;\n",
              "    }\n",
              "\n",
              "    [theme=dark] .colab-df-convert {\n",
              "      background-color: #3B4455;\n",
              "      fill: #D2E3FC;\n",
              "    }\n",
              "\n",
              "    [theme=dark] .colab-df-convert:hover {\n",
              "      background-color: #434B5C;\n",
              "      box-shadow: 0px 1px 3px 1px rgba(0, 0, 0, 0.15);\n",
              "      filter: drop-shadow(0px 1px 2px rgba(0, 0, 0, 0.3));\n",
              "      fill: #FFFFFF;\n",
              "    }\n",
              "  </style>\n",
              "\n",
              "    <script>\n",
              "      const buttonEl =\n",
              "        document.querySelector('#df-98844b87-1d92-475b-b234-c8ad455d4544 button.colab-df-convert');\n",
              "      buttonEl.style.display =\n",
              "        google.colab.kernel.accessAllowed ? 'block' : 'none';\n",
              "\n",
              "      async function convertToInteractive(key) {\n",
              "        const element = document.querySelector('#df-98844b87-1d92-475b-b234-c8ad455d4544');\n",
              "        const dataTable =\n",
              "          await google.colab.kernel.invokeFunction('convertToInteractive',\n",
              "                                                    [key], {});\n",
              "        if (!dataTable) return;\n",
              "\n",
              "        const docLinkHtml = 'Like what you see? Visit the ' +\n",
              "          '<a target=\"_blank\" href=https://colab.research.google.com/notebooks/data_table.ipynb>data table notebook</a>'\n",
              "          + ' to learn more about interactive tables.';\n",
              "        element.innerHTML = '';\n",
              "        dataTable['output_type'] = 'display_data';\n",
              "        await google.colab.output.renderOutput(dataTable, element);\n",
              "        const docLink = document.createElement('div');\n",
              "        docLink.innerHTML = docLinkHtml;\n",
              "        element.appendChild(docLink);\n",
              "      }\n",
              "    </script>\n",
              "  </div>\n",
              "\n",
              "\n",
              "<div id=\"df-cc3878c9-4de6-4d09-bd6e-e901fb317a2f\">\n",
              "  <button class=\"colab-df-quickchart\" onclick=\"quickchart('df-cc3878c9-4de6-4d09-bd6e-e901fb317a2f')\"\n",
              "            title=\"Suggest charts.\"\n",
              "            style=\"display:none;\">\n",
              "\n",
              "<svg xmlns=\"http://www.w3.org/2000/svg\" height=\"24px\"viewBox=\"0 0 24 24\"\n",
              "     width=\"24px\">\n",
              "    <g>\n",
              "        <path d=\"M19 3H5c-1.1 0-2 .9-2 2v14c0 1.1.9 2 2 2h14c1.1 0 2-.9 2-2V5c0-1.1-.9-2-2-2zM9 17H7v-7h2v7zm4 0h-2V7h2v10zm4 0h-2v-4h2v4z\"/>\n",
              "    </g>\n",
              "</svg>\n",
              "  </button>\n",
              "\n",
              "<style>\n",
              "  .colab-df-quickchart {\n",
              "      --bg-color: #E8F0FE;\n",
              "      --fill-color: #1967D2;\n",
              "      --hover-bg-color: #E2EBFA;\n",
              "      --hover-fill-color: #174EA6;\n",
              "      --disabled-fill-color: #AAA;\n",
              "      --disabled-bg-color: #DDD;\n",
              "  }\n",
              "\n",
              "  [theme=dark] .colab-df-quickchart {\n",
              "      --bg-color: #3B4455;\n",
              "      --fill-color: #D2E3FC;\n",
              "      --hover-bg-color: #434B5C;\n",
              "      --hover-fill-color: #FFFFFF;\n",
              "      --disabled-bg-color: #3B4455;\n",
              "      --disabled-fill-color: #666;\n",
              "  }\n",
              "\n",
              "  .colab-df-quickchart {\n",
              "    background-color: var(--bg-color);\n",
              "    border: none;\n",
              "    border-radius: 50%;\n",
              "    cursor: pointer;\n",
              "    display: none;\n",
              "    fill: var(--fill-color);\n",
              "    height: 32px;\n",
              "    padding: 0;\n",
              "    width: 32px;\n",
              "  }\n",
              "\n",
              "  .colab-df-quickchart:hover {\n",
              "    background-color: var(--hover-bg-color);\n",
              "    box-shadow: 0 1px 2px rgba(60, 64, 67, 0.3), 0 1px 3px 1px rgba(60, 64, 67, 0.15);\n",
              "    fill: var(--button-hover-fill-color);\n",
              "  }\n",
              "\n",
              "  .colab-df-quickchart-complete:disabled,\n",
              "  .colab-df-quickchart-complete:disabled:hover {\n",
              "    background-color: var(--disabled-bg-color);\n",
              "    fill: var(--disabled-fill-color);\n",
              "    box-shadow: none;\n",
              "  }\n",
              "\n",
              "  .colab-df-spinner {\n",
              "    border: 2px solid var(--fill-color);\n",
              "    border-color: transparent;\n",
              "    border-bottom-color: var(--fill-color);\n",
              "    animation:\n",
              "      spin 1s steps(1) infinite;\n",
              "  }\n",
              "\n",
              "  @keyframes spin {\n",
              "    0% {\n",
              "      border-color: transparent;\n",
              "      border-bottom-color: var(--fill-color);\n",
              "      border-left-color: var(--fill-color);\n",
              "    }\n",
              "    20% {\n",
              "      border-color: transparent;\n",
              "      border-left-color: var(--fill-color);\n",
              "      border-top-color: var(--fill-color);\n",
              "    }\n",
              "    30% {\n",
              "      border-color: transparent;\n",
              "      border-left-color: var(--fill-color);\n",
              "      border-top-color: var(--fill-color);\n",
              "      border-right-color: var(--fill-color);\n",
              "    }\n",
              "    40% {\n",
              "      border-color: transparent;\n",
              "      border-right-color: var(--fill-color);\n",
              "      border-top-color: var(--fill-color);\n",
              "    }\n",
              "    60% {\n",
              "      border-color: transparent;\n",
              "      border-right-color: var(--fill-color);\n",
              "    }\n",
              "    80% {\n",
              "      border-color: transparent;\n",
              "      border-right-color: var(--fill-color);\n",
              "      border-bottom-color: var(--fill-color);\n",
              "    }\n",
              "    90% {\n",
              "      border-color: transparent;\n",
              "      border-bottom-color: var(--fill-color);\n",
              "    }\n",
              "  }\n",
              "</style>\n",
              "\n",
              "  <script>\n",
              "    async function quickchart(key) {\n",
              "      const quickchartButtonEl =\n",
              "        document.querySelector('#' + key + ' button');\n",
              "      quickchartButtonEl.disabled = true;  // To prevent multiple clicks.\n",
              "      quickchartButtonEl.classList.add('colab-df-spinner');\n",
              "      try {\n",
              "        const charts = await google.colab.kernel.invokeFunction(\n",
              "            'suggestCharts', [key], {});\n",
              "      } catch (error) {\n",
              "        console.error('Error during call to suggestCharts:', error);\n",
              "      }\n",
              "      quickchartButtonEl.classList.remove('colab-df-spinner');\n",
              "      quickchartButtonEl.classList.add('colab-df-quickchart-complete');\n",
              "    }\n",
              "    (() => {\n",
              "      let quickchartButtonEl =\n",
              "        document.querySelector('#df-cc3878c9-4de6-4d09-bd6e-e901fb317a2f button');\n",
              "      quickchartButtonEl.style.display =\n",
              "        google.colab.kernel.accessAllowed ? 'block' : 'none';\n",
              "    })();\n",
              "  </script>\n",
              "</div>\n",
              "    </div>\n",
              "  </div>\n"
            ]
          },
          "metadata": {},
          "execution_count": 332
        }
      ]
    },
    {
      "cell_type": "code",
      "source": [
        "submission.to_csv('submission.csv', index=False)"
      ],
      "metadata": {
        "id": "5BEv3QlhN1ey"
      },
      "execution_count": null,
      "outputs": []
    },
    {
      "cell_type": "code",
      "source": [],
      "metadata": {
        "id": "c8xmz7Y9N2bi"
      },
      "execution_count": null,
      "outputs": []
    }
  ]
}